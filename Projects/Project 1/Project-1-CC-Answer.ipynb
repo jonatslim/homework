{
 "cells": [
  {
   "cell_type": "markdown",
   "metadata": {},
   "source": [
    "<img src=\"http://imgur.com/1ZcRyrc.png\" style=\"float: left; margin: 20px; height: 55px\">\n",
    "\n",
    "# Project 1: Python Coding Exercises\n",
    "\n",
    "_Authors: Joseph Nelson (DC) _\n",
    "_Answers by Jonathan Lim jonatslim@gmial.com\n",
    "\n",
    "---"
   ]
  },
  {
   "cell_type": "markdown",
   "metadata": {},
   "source": [
    "The following code challenges are drawn from common exercises used in technical interviews.\n",
    "\n",
    "Please note that there may be several ways to approach each challenge. If you get stuck, try mapping out your approach in pseudocode first. Finally, while solutions to problems like these may be found online, remember that if you copy/paste code that you can't explain, you'll be missing out on the point of the project. The only way to truly learn a new skill is through practice, trial, and error - we can only help you improve by understanding where you are having trouble."
   ]
  },
  {
   "cell_type": "markdown",
   "metadata": {},
   "source": [
    "### Challenge 1: Largest Palindrome\n",
    "A palindromic number reads the same both ways. For example, 1234321 is a palindrome. The largest palindrome made from the product of two two-digit numbers is 9009 = 91 × 99. Find the largest palindrome made from the product of two three-digit numbers. Afterward, write a brief explanation walking through your code's logic in markdown."
   ]
  },
  {
   "cell_type": "code",
   "execution_count": 29,
   "metadata": {},
   "outputs": [
    {
     "name": "stdout",
     "output_type": "stream",
     "text": [
      "554 x 236 's largest palindrome is 130031\n"
     ]
    }
   ],
   "source": [
    "a = 554\n",
    "b = 236\n",
    "\n",
    "# take the product in interger\n",
    "c = a * b\n",
    "\n",
    "# convert the 'product' to a string. \n",
    "string_c = str(c)\n",
    "\n",
    "# get the palindrom of the 'product'\n",
    "palindrome = string_c[::-1]\n",
    "\n",
    "#convert the palindrom into integer\n",
    "rev_c = int(palindrome)\n",
    "\n",
    "# while product is not equal to palindrom, subtract 1 to product.\n",
    "while string_c != palindrome:\n",
    "    c = c - 1\n",
    "    # calculate the palindrom again.\n",
    "    string_c = str(c)\n",
    "    palindrome = string_c[::-1]\n",
    "    rev_c = int(palindrome)\n",
    "\n",
    "# at this point, we found the largest palindrom made from the product of 2 numbers.\n",
    "if c == rev_c :\n",
    "    print ( str(a) + \" x \" + str(b) + \" 's largest palindrome is \" + str(rev_c))\n",
    "\n"
   ]
  },
  {
   "cell_type": "markdown",
   "metadata": {},
   "source": [
    "\n",
    "### Challenge 2: Summation of Primes\n",
    "The sum of the primes below 10 is 2 + 3 + 5 + 7 = 17. Find the sum of all the primes below 2,000. Afterward, write a brief explanation walking through your code's logic in markdown."
   ]
  },
  {
   "cell_type": "code",
   "execution_count": 165,
   "metadata": {},
   "outputs": [
    {
     "name": "stdout",
     "output_type": "stream",
     "text": [
      "277050\n"
     ]
    }
   ],
   "source": [
    "# function to detect a prime number\n",
    "# identify that the number is prime. prime number can only be divisible by 1 or itself.\n",
    "\n",
    "def is_prime( a ):\n",
    "    # start divisor as 1\n",
    "    divisor = 1\n",
    "    # loop x times for divisor 1 till the number tested ( a )\n",
    "    while (divisor < a) :\n",
    "        # if modulo division is less than 1, number tested 'a' is a prime candidate\n",
    "        if (a % divisor) < 1:\n",
    "            # if division is not 1, \n",
    "            if ( divisor != 1 ):\n",
    "                # increment divisor\n",
    "                divisor = divisor + 1\n",
    "                #a is divisible by a divisor. number is not a prime. )\n",
    "                return False\n",
    "                break\n",
    "        # increment divisor\n",
    "        divisor = divisor + 1\n",
    "    # when all test fails, number is a prime. return True.\n",
    "    return True\n",
    "\n",
    "# start loop from 2 to the 2000. this filters off #1, which is not a prime.\n",
    "b = 2\n",
    "# sum of all the primes. set to 0 and thus an interger.\n",
    "sum = 0\n",
    "\n",
    "# loop from 2 to 2000, if the number is a prime, collect the sum.\n",
    "while b <= 2000 :\n",
    "    # print ( str(b) + ' ' + str(is_prime(b)) )\n",
    "    if is_prime(b):\n",
    "        sum = sum + b\n",
    "    b = b + 1\n",
    "\n",
    " # print sum\n",
    "print (sum )\n"
   ]
  },
  {
   "cell_type": "markdown",
   "metadata": {},
   "source": [
    "### Challenge 3: Multiples of 3 and 5\n",
    "If we list all of the natural numbers below 10 that are multiples of 3 or 5, we get 3, 5, 6, and 9. The sum of these multiples is 23. Find the sum of all the multiples of 3 and 5 below 1,000. Afterward, write a brief explanation walking through your code's logic in markdown."
   ]
  },
  {
   "cell_type": "code",
   "execution_count": 189,
   "metadata": {},
   "outputs": [
    {
     "name": "stdout",
     "output_type": "stream",
     "text": [
      "233168\n"
     ]
    }
   ],
   "source": [
    "\n",
    "x = 1\n",
    "sum = 0\n",
    "while x < 1000 :\n",
    "    number = x\n",
    "    # check if the number is divisible by 3 or 5.\n",
    "    if (number % 3 == 0) or (number % 5 == 0)  :\n",
    "        # print ( str(number) + ' is divisible by 3 or 5')\n",
    "        # yes, number is divisible by 3 or 5. collect the sum\n",
    "        sum = sum + number\n",
    "    x = x + 1\n",
    "        \n",
    "print ( sum )"
   ]
  },
  {
   "cell_type": "markdown",
   "metadata": {},
   "source": [
    "### Challenge 4: String Compressor\n",
    "Implement a method to perform basic string compression using the counts of repeated characters. (This is called run-length encoding.) For example, the string \"aabcccccaaa\" would become a2b1c5a3. If the “compressed” string would not become smaller than the original string, your method should return the original string. You can assume the string has only uppercase and lowercase letters (a–z). Specify whether your solution is case sensitive or case insensitive and what you would need to change to make it the other. Afterward, write a brief explanation walking through your code's logic in markdown."
   ]
  },
  {
   "cell_type": "code",
   "execution_count": 277,
   "metadata": {},
   "outputs": [
    {
     "name": "stdout",
     "output_type": "stream",
     "text": [
      "a2b1c5a3\n"
     ]
    }
   ],
   "source": [
    "input_string = \"aabcccccaaa\"\n",
    "\n",
    "# affix a dummy string in the front for looping purpose.\n",
    "input_string = input_string + ' '\n",
    "\n",
    "# define the start and end portion of the loop.\n",
    "start = 0\n",
    "end = len(input_string)\n",
    "current = start\n",
    "count = 1\n",
    "\n",
    "#initiate strings for use.\n",
    "outout_string = ''\n",
    "next_char = ''\n",
    "current_char = ''\n",
    "\n",
    "# loop thru the string to process\n",
    "while current < end-1 :\n",
    "    # get the current and next string.\n",
    "    current_char = input_string[current]\n",
    "    next_char = input_string[current+1]\n",
    "\n",
    "    # if the current and next character are the same, increase count.\n",
    "    if ( current_char == next_char ) :\n",
    "        count = count + 1\n",
    "\n",
    "    # print ( ' current = ' + str(current) + ' current_char = ' + current_char + ' next_char = ' + next_char + ' count  = ' + str(count) )\n",
    "    \n",
    "    # if the current and next character are not the same, the end of character streak dected. append otuput string. \n",
    "    if next_char != current_char :\n",
    "        outout_string = outout_string + current_char + str(count)\n",
    "        # print ( ' outout_string = ' + outout_string )\n",
    "        count = 1\n",
    "    \n",
    "    # process next character....\n",
    "    current = current + 1\n",
    "    \n",
    "print ( outout_string )"
   ]
  },
  {
   "cell_type": "markdown",
   "metadata": {},
   "source": [
    "### *BONUS* Challenge: FizzBuzz\n",
    "Write a program that prints all of the numbers from 1 to 100. For multiples of 3, instead of the number, print \"Fizz;\" for multiples of 5, print \"Buzz.\" For numbers that are multiples of both 3 and 5, print \"FizzBuzz.\" Afterward, write a brief explanation walking through your code's logic in markdown."
   ]
  },
  {
   "cell_type": "code",
   "execution_count": 207,
   "metadata": {},
   "outputs": [
    {
     "name": "stdout",
     "output_type": "stream",
     "text": [
      "Fizz\n",
      "Buzz\n",
      "Fizz\n",
      "Fizz\n",
      "Buzz\n",
      "Fizz\n",
      "Fizz\n",
      "FizzBuzz\n",
      "Fizz\n",
      "Buzz\n",
      "Fizz\n",
      "Fizz\n",
      "Buzz\n",
      "Fizz\n",
      "Fizz\n",
      "FizzBuzz\n",
      "Fizz\n",
      "Buzz\n",
      "Fizz\n",
      "Fizz\n",
      "Buzz\n",
      "Fizz\n",
      "Fizz\n",
      "FizzBuzz\n",
      "Fizz\n",
      "Buzz\n",
      "Fizz\n",
      "Fizz\n",
      "Buzz\n",
      "Fizz\n",
      "Fizz\n",
      "FizzBuzz\n",
      "Fizz\n",
      "Buzz\n",
      "Fizz\n",
      "Fizz\n",
      "Buzz\n",
      "Fizz\n",
      "Fizz\n",
      "FizzBuzz\n",
      "Fizz\n",
      "Buzz\n",
      "Fizz\n",
      "Fizz\n",
      "Buzz\n",
      "Fizz\n",
      "Fizz\n",
      "FizzBuzz\n",
      "Fizz\n",
      "Buzz\n",
      "Fizz\n",
      "Fizz\n"
     ]
    }
   ],
   "source": [
    "\n",
    "# define x as int and string as a string.\n",
    "x = 1\n",
    "\n",
    "# loop from 1 to 100....\n",
    "while x < 100 :\n",
    "    # empty the string for this number...\n",
    "    string = ''\n",
    "    number = x\n",
    "    # check if the number is divisible by 3 or 5.\n",
    "    if (number % 3 == 0) :\n",
    "        # number is divisible by 3.  add Fizz on the string.\n",
    "        string = string + 'Fizz'\n",
    "        #print ( str(number) + ' is divisible by 3 : ' + string )\n",
    "        print (string)\n",
    "        # yes, number is divisible by 3 or 5. collect the sum\n",
    "    if (number % 5 == 0) :\n",
    "        # number is divisible by 5. add Buzz on the string.\n",
    "        string = string + 'Buzz'\n",
    "        #print ( str(number) + ' is divisible by 5 : ' + string )\n",
    "        # yes, number is divisible by 3 or 5. collect the sum\n",
    "        print (string)\n",
    "\n",
    "    # increment next x number.\n",
    "    x = x + 1\n"
   ]
  }
 ],
 "metadata": {
  "anaconda-cloud": {},
  "kernelspec": {
   "display_name": "Python 3",
   "language": "python",
   "name": "python3"
  },
  "language_info": {
   "codemirror_mode": {
    "name": "ipython",
    "version": 3
   },
   "file_extension": ".py",
   "mimetype": "text/x-python",
   "name": "python",
   "nbconvert_exporter": "python",
   "pygments_lexer": "ipython3",
   "version": "3.6.6"
  }
 },
 "nbformat": 4,
 "nbformat_minor": 2
}
