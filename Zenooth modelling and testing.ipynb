{
 "cells": [
  {
   "cell_type": "markdown",
   "metadata": {
    "toc": true
   },
   "source": [
    "<h1>Table of Contents<span class=\"tocSkip\"></span></h1>\n",
    "<div class=\"toc\"><ul class=\"toc-item\"><li><span><a href=\"#Testing-to-see-how-well-metadata-alone-predicts-toxicity\" data-toc-modified-id=\"Testing-to-see-how-well-metadata-alone-predicts-toxicity-1\"><span class=\"toc-item-num\">1&nbsp;&nbsp;</span>Testing to see how well metadata alone predicts toxicity</a></span><ul class=\"toc-item\"><li><span><a href=\"#Testing-the-performance-of-XGBoost\" data-toc-modified-id=\"Testing-the-performance-of-XGBoost-1.1\"><span class=\"toc-item-num\">1.1&nbsp;&nbsp;</span>Testing the performance of XGBoost</a></span></li><li><span><a href=\"#testing-using-tfidf-vectorizer\" data-toc-modified-id=\"testing-using-tfidf-vectorizer-1.2\"><span class=\"toc-item-num\">1.2&nbsp;&nbsp;</span>testing using tfidf vectorizer</a></span></li></ul></li></ul></div>"
   ]
  },
  {
   "cell_type": "code",
   "execution_count": 210,
   "metadata": {
    "ExecuteTime": {
     "end_time": "2018-08-06T06:48:38.338691Z",
     "start_time": "2018-08-06T06:48:38.317704Z"
    }
   },
   "outputs": [],
   "source": [
    "import pandas as pd\n",
    "import numpy as np\n",
    "import seaborn as sns\n",
    "import matplotlib.pyplot as plt\n",
    "import scipy as sp\n",
    "import re\n",
    "import xgboost as xgb\n",
    "import warnings\n",
    "warnings.filterwarnings('ignore')\n",
    "\n",
    "from sklearn.naive_bayes import BernoulliNB\n",
    "from sklearn.preprocessing import StandardScaler\n",
    "from sklearn.feature_extraction.text import TfidfVectorizer, CountVectorizer, HashingVectorizer, TfidfTransformer\n",
    "from sklearn.model_selection import train_test_split\n",
    "from sklearn.svm import SVC\n",
    "from sklearn.linear_model import LogisticRegression, LinearRegression, Lasso, Ridge, ElasticNet, RidgeCV\n",
    "from sklearn.ensemble import RandomForestClassifier\n",
    "from sklearn.metrics import confusion_matrix, roc_auc_score, classification_report"
   ]
  },
  {
   "cell_type": "code",
   "execution_count": 161,
   "metadata": {
    "ExecuteTime": {
     "end_time": "2018-08-06T05:54:35.342960Z",
     "start_time": "2018-08-06T05:54:29.155420Z"
    }
   },
   "outputs": [],
   "source": [
    "df = pd.read_csv('cleaned.csv')"
   ]
  },
  {
   "cell_type": "code",
   "execution_count": 162,
   "metadata": {
    "ExecuteTime": {
     "end_time": "2018-08-06T05:54:35.365950Z",
     "start_time": "2018-08-06T05:54:35.345956Z"
    }
   },
   "outputs": [],
   "source": [
    "def downsample(df):\n",
    "    return df.drop(df[df.is_toxic == 0].sample(len(df[df.is_toxic == 0]) - df.is_toxic.sum()).index)"
   ]
  },
  {
   "cell_type": "code",
   "execution_count": 163,
   "metadata": {
    "ExecuteTime": {
     "end_time": "2018-08-06T05:54:37.069256Z",
     "start_time": "2018-08-06T05:54:35.368944Z"
    }
   },
   "outputs": [
    {
     "data": {
      "text/plain": [
       "Index(['comment_text_char_space', 'question', 'exclamation', 'words',\n",
       "       'avg_word_len', 'caps_percentage'],\n",
       "      dtype='object')"
      ]
     },
     "execution_count": 163,
     "metadata": {},
     "output_type": "execute_result"
    }
   ],
   "source": [
    "X_train.columns"
   ]
  },
  {
   "cell_type": "markdown",
   "metadata": {},
   "source": [
    "# Testing to see how well metadata alone predicts toxicity"
   ]
  },
  {
   "cell_type": "code",
   "execution_count": 211,
   "metadata": {
    "ExecuteTime": {
     "end_time": "2018-08-08T02:25:17.786558Z",
     "start_time": "2018-08-08T02:25:12.665700Z"
    }
   },
   "outputs": [],
   "source": [
    "# building a function to peform train test split and simple regression on different target variables\n",
    "def tester(x_values, y_value):\n",
    "    \n",
    "    df = pd.read_csv('cleaned.csv')\n",
    "    \n",
    "    print('Predictors: {}'.format(x_values))\n",
    "    print(\"Target: '{}'\\n\".format(y_value))\n",
    "    \n",
    "    X_train, X_test, y_train, y_test = train_test_split(df[x_values], df[y_value])\n",
    "    df = pd.concat([X_train, y_train], axis=1)    \n",
    "    downsampled = df.drop(df[df[y_value] == 0].sample(len(df[df[y_value] == 0]) - df[y_value].sum()).index)\n",
    "    X_train = downsampled.drop(y_train.name, axis=1)\n",
    "    y_train = downsampled[y_train.name]\n",
    "    \n",
    "    ss = StandardScaler()\n",
    "    X_train = ss.fit_transform(X_train)\n",
    "    X_test = ss.transform(X_test)\n",
    "    \n",
    "#     slr = LinearRegression()\n",
    "#     slr.fit(X_train, y_train)\n",
    "#     print('Linear Regression score is {}'.format(slr.score(X_test, y_test)))\n",
    " \n",
    "#     ridge = Ridge()\n",
    "#     ridge.fit(X_train, y_train)\n",
    "#     print('Ridge Regression score is {}'.format(ridge.score(X_test, y_test)))\n",
    "    \n",
    "    logit = LogisticRegression()\n",
    "    logit.fit(X_train, y_train)\n",
    "    print('Logistic Regression score is {}'.format(logit.score(X_test, y_test)))\n",
    "    \n",
    "    rfc = RandomForestClassifier()\n",
    "    rfc.fit(X_train, y_train)\n",
    "    print('Random Forest Classifier score is {}'.format(rfc.score(X_test, y_test)))\n",
    "    \n",
    "    xgboost = xgb.XGBClassifier(max_depth=5, silent=False)\n",
    "    xgboost.fit(X_train, y_train)\n",
    "    print('XGBoost score is {}'.format(xgboost.score(X_test, y_test)))\n",
    "\n",
    "    print('Majority class proportion is {}\\n'.format(pd.DataFrame(y_test.values)[0].value_counts()[0] / len(y_test)))\n",
    "    \n",
    "    # takes the higher scoring model and prints the confusion matrix using it as a predictor\n",
    "    print(confusion_matrix(y_test, sorted(zip([logit.score(X_test, y_test), rfc.score(X_test, y_test)], [logit, rfc]), reverse=True)[0][1].predict(X_test)), '\\n')\n",
    "    \n",
    "    print(classification_report(y_test, sorted(zip([logit.score(X_test, y_test), rfc.score(X_test, y_test)], [logit, rfc]), reverse=True)[0][1].predict(X_test)))\n"
   ]
  },
  {
   "cell_type": "code",
   "execution_count": 212,
   "metadata": {
    "ExecuteTime": {
     "end_time": "2018-08-08T02:32:25.177385Z",
     "start_time": "2018-08-08T02:26:41.647058Z"
    },
    "scrolled": false
   },
   "outputs": [
    {
     "name": "stdout",
     "output_type": "stream",
     "text": [
      "Predictors: ['question', 'exclamation', 'words', 'avg_word_len', 'caps_percentage']\n",
      "Target: 'toxic'\n",
      "\n",
      "Logistic Regression score is 0.769624188332038\n",
      "Random Forest Classifier score is 0.6795447138165317\n",
      "XGBoost score is 0.7121869280718028\n",
      "Majority class proportion is 0.9043548023165442\n",
      "\n",
      "[[29242  6830]\n",
      " [ 2359  1456]] \n",
      "\n",
      "             precision    recall  f1-score   support\n",
      "\n",
      "          0       0.93      0.81      0.86     36072\n",
      "          1       0.18      0.38      0.24      3815\n",
      "\n",
      "avg / total       0.85      0.77      0.80     39887\n",
      "\n",
      "---------------------------------------------------------------------------\n",
      "Predictors: ['question', 'exclamation', 'words', 'avg_word_len', 'caps_percentage']\n",
      "Target: 'severe_toxic'\n",
      "\n",
      "Logistic Regression score is 0.8535111690525735\n",
      "Random Forest Classifier score is 0.762955348860531\n",
      "XGBoost score is 0.7821846716975456\n",
      "Majority class proportion is 0.9902725198686289\n",
      "\n",
      "[[33871  5628]\n",
      " [  215   173]] \n",
      "\n",
      "             precision    recall  f1-score   support\n",
      "\n",
      "          0       0.99      0.86      0.92     39499\n",
      "          1       0.03      0.45      0.06       388\n",
      "\n",
      "avg / total       0.98      0.85      0.91     39887\n",
      "\n",
      "---------------------------------------------------------------------------\n",
      "Predictors: ['question', 'exclamation', 'words', 'avg_word_len', 'caps_percentage']\n",
      "Target: 'obscene'\n",
      "\n",
      "Logistic Regression score is 0.7894050693208313\n",
      "Random Forest Classifier score is 0.691628851505503\n",
      "XGBoost score is 0.7018326773134104\n",
      "Majority class proportion is 0.9468749216536716\n",
      "\n",
      "[[30702  7066]\n",
      " [ 1334   785]] \n",
      "\n",
      "             precision    recall  f1-score   support\n",
      "\n",
      "          0       0.96      0.81      0.88     37768\n",
      "          1       0.10      0.37      0.16      2119\n",
      "\n",
      "avg / total       0.91      0.79      0.84     39887\n",
      "\n",
      "---------------------------------------------------------------------------\n",
      "Predictors: ['question', 'exclamation', 'words', 'avg_word_len', 'caps_percentage']\n",
      "Target: 'threat'\n",
      "\n",
      "Logistic Regression score is 0.750971494471883\n",
      "Random Forest Classifier score is 0.7376839571790308\n",
      "XGBoost score is 0.7188808383683907\n",
      "Majority class proportion is 0.9970416426404592\n",
      "\n",
      "[[29879  9890]\n",
      " [   43    75]] \n",
      "\n",
      "             precision    recall  f1-score   support\n",
      "\n",
      "          0       1.00      0.75      0.86     39769\n",
      "          1       0.01      0.64      0.01       118\n",
      "\n",
      "avg / total       1.00      0.75      0.85     39887\n",
      "\n",
      "---------------------------------------------------------------------------\n",
      "Predictors: ['question', 'exclamation', 'words', 'avg_word_len', 'caps_percentage']\n",
      "Target: 'insult'\n",
      "\n",
      "Logistic Regression score is 0.7870484117632311\n",
      "Random Forest Classifier score is 0.6913781432546945\n",
      "XGBoost score is 0.7033369268182615\n",
      "Majority class proportion is 0.9518389450196806\n",
      "\n",
      "[[30653  7313]\n",
      " [ 1181   740]] \n",
      "\n",
      "             precision    recall  f1-score   support\n",
      "\n",
      "          0       0.96      0.81      0.88     37966\n",
      "          1       0.09      0.39      0.15      1921\n",
      "\n",
      "avg / total       0.92      0.79      0.84     39887\n",
      "\n",
      "---------------------------------------------------------------------------\n",
      "Predictors: ['question', 'exclamation', 'words', 'avg_word_len', 'caps_percentage']\n",
      "Target: 'identity_hate'\n",
      "\n",
      "Logistic Regression score is 0.8117933161180334\n",
      "Random Forest Classifier score is 0.6937348008122948\n",
      "XGBoost score is 0.7112091658936496\n",
      "Majority class proportion is 0.9915260611226715\n",
      "\n",
      "[[32237  7312]\n",
      " [  195   143]] \n",
      "\n",
      "             precision    recall  f1-score   support\n",
      "\n",
      "          0       0.99      0.82      0.90     39549\n",
      "          1       0.02      0.42      0.04       338\n",
      "\n",
      "avg / total       0.99      0.81      0.89     39887\n",
      "\n",
      "---------------------------------------------------------------------------\n",
      "Predictors: ['question', 'exclamation', 'words', 'avg_word_len', 'caps_percentage']\n",
      "Target: 'total_toxic'\n",
      "\n",
      "Logistic Regression score is 0.8982876626469777\n",
      "Random Forest Classifier score is 0.8101386416626971\n",
      "XGBoost score is 0.894476897234688\n",
      "Majority class proportion is 0.9004186827788503\n",
      "\n",
      "[[35731    46     0   138     0     0     0]\n",
      " [ 1490    33     0    64     1     0     0]\n",
      " [  759    15     0    31     1     0     0]\n",
      " [  924    26     0    65     0     0     0]\n",
      " [  393    20     0    46     1     0     0]\n",
      " [   74     9     0    15     0     0     0]\n",
      " [    3     1     0     1     0     0     0]] \n",
      "\n",
      "             precision    recall  f1-score   support\n",
      "\n",
      "          0       0.91      0.99      0.95     35915\n",
      "          1       0.22      0.02      0.04      1588\n",
      "          2       0.00      0.00      0.00       806\n",
      "          3       0.18      0.06      0.09      1015\n",
      "          4       0.33      0.00      0.00       460\n",
      "          5       0.00      0.00      0.00        98\n",
      "          6       0.00      0.00      0.00         5\n",
      "\n",
      "avg / total       0.83      0.90      0.86     39887\n",
      "\n",
      "---------------------------------------------------------------------------\n",
      "Predictors: ['question', 'exclamation', 'words', 'avg_word_len', 'caps_percentage']\n",
      "Target: 'is_toxic'\n",
      "\n",
      "Logistic Regression score is 0.7678190889262165\n",
      "Random Forest Classifier score is 0.6739539198235014\n",
      "XGBoost score is 0.7040389099205255\n",
      "Majority class proportion is 0.89806202522125\n",
      "\n",
      "[[29075  6746]\n",
      " [ 2515  1551]] \n",
      "\n",
      "             precision    recall  f1-score   support\n",
      "\n",
      "          0       0.92      0.81      0.86     35821\n",
      "          1       0.19      0.38      0.25      4066\n",
      "\n",
      "avg / total       0.85      0.77      0.80     39887\n",
      "\n",
      "---------------------------------------------------------------------------\n",
      "Predictors: ['question', 'exclamation', 'words', 'avg_word_len', 'caps_percentage']\n",
      "Target: 'is_toxic_no_profanity'\n",
      "\n",
      "Logistic Regression score is 0.7652618647679695\n",
      "Random Forest Classifier score is 0.6787424474139444\n",
      "XGBoost score is 0.708727154210645\n",
      "Majority class proportion is 0.8997668413267481\n",
      "\n",
      "[[29074  6815]\n",
      " [ 2548  1450]] \n",
      "\n",
      "             precision    recall  f1-score   support\n",
      "\n",
      "          0       0.92      0.81      0.86     35889\n",
      "          1       0.18      0.36      0.24      3998\n",
      "\n",
      "avg / total       0.84      0.77      0.80     39887\n",
      "\n",
      "---------------------------------------------------------------------------\n"
     ]
    }
   ],
   "source": [
    "for toxicity in ['toxic', 'severe_toxic', 'obscene', 'threat', 'insult', 'identity_hate', 'total_toxic', 'is_toxic', 'is_toxic_no_profanity']:\n",
    "    tester(['question', 'exclamation', 'words', 'avg_word_len', 'caps_percentage'], toxicity)\n",
    "    print('-'*75)"
   ]
  },
  {
   "cell_type": "markdown",
   "metadata": {},
   "source": [
    "## testing using tfidf vectorizer"
   ]
  },
  {
   "cell_type": "code",
   "execution_count": 221,
   "metadata": {
    "ExecuteTime": {
     "end_time": "2018-08-08T03:31:14.261676Z",
     "start_time": "2018-08-08T03:31:14.036922Z"
    }
   },
   "outputs": [],
   "source": [
    "def nlpscorer(nlp, model):\n",
    "    \n",
    "    df = pd.read_csv('cleaned.csv')\n",
    "\n",
    "    X_train, X_test, y_train, y_test = train_test_split(df[['comment_text_char_space', 'question', 'exclamation', 'words',\n",
    "                                                            'avg_word_len', 'caps_percentage']], df['is_toxic_no_profanity'])\n",
    "    \n",
    "    df = pd.concat([X_train, y_train], axis=1)    \n",
    "    downsampled = df.drop(df[df['is_toxic_no_profanity'] == 0].sample(len(df[df['is_toxic_no_profanity'] == 0]) - df['is_toxic_no_profanity'].sum()).index)\n",
    "    X_train = downsampled.drop(y_train.name, axis=1)\n",
    "    y_train = downsampled[y_train.name]\n",
    "    \n",
    "    nlp.fit(X_train.comment_text_char_space)\n",
    "    transformed = nlp.transform(X_train.comment_text_char_space)\n",
    "    X_train.drop('comment_text_char_space', axis=1).shape\n",
    "    \n",
    "    model.fit(transformed, y_train)\n",
    "    \n",
    "    print('NLP ONLY')\n",
    "    print(classification_report(y_test, model.predict(nlp.transform(X_test.comment_text_char_space))))\n",
    "    print(pd.DataFrame(confusion_matrix(y_test, model.predict(nlp.transform(X_test.comment_text_char_space))), index=['true_0', 'true_1'], columns=['predicted_0', 'predicted_1']), '\\n')\n",
    "    print('NLP only score: ', model.score(nlp.transform(X_test.comment_text_char_space), y_test), '\\n')\n",
    "    \n",
    "    X_train_combined = sp.sparse.hstack([transformed, sp.sparse.csr_matrix(X_train.drop('comment_text_char_space', axis=1))])\n",
    "    X_test_combined = sp.sparse.hstack([nlp.transform(X_test.comment_text_char_space), sp.sparse.csr_matrix(X_test.drop('comment_text_char_space', axis=1))])\n",
    "    \n",
    "    model.fit(X_train_combined, y_train)\n",
    "    \n",
    "    print('COMBINED')\n",
    "    print(classification_report(y_test, model.predict(X_test_combined)))\n",
    "    print(pd.DataFrame(confusion_matrix(y_test, model.predict(X_test_combined)), index=['true_0', 'true_1'], columns=['predicted_0', 'predicted_1']), '\\n')\n",
    "    print('Combined score: ', model.score(X_test_combined, y_test))"
   ]
  },
  {
   "cell_type": "code",
   "execution_count": 237,
   "metadata": {
    "ExecuteTime": {
     "end_time": "2018-08-09T09:13:10.835932Z",
     "start_time": "2018-08-09T09:13:10.733864Z"
    }
   },
   "outputs": [],
   "source": [
    "tfidf = TfidfVectorizer(ngram_range=(2,5), max_df=0.7, max_features=10000)\n",
    "cv = CountVectorizer(ngram_range=(2,5), max_df=0.7, max_features=10000)"
   ]
  },
  {
   "cell_type": "code",
   "execution_count": 238,
   "metadata": {
    "ExecuteTime": {
     "end_time": "2018-08-09T09:13:14.878256Z",
     "start_time": "2018-08-09T09:13:14.254507Z"
    }
   },
   "outputs": [],
   "source": [
    "xgboost = xgb.XGBClassifier(max_depth=5, silent=False)\n",
    "logit = LogisticRegression()\n",
    "rfc = RandomForestClassifier()\n",
    "nb = BernoulliNB()\n",
    "svc = SVC()"
   ]
  },
  {
   "cell_type": "code",
   "execution_count": 241,
   "metadata": {
    "ExecuteTime": {
     "end_time": "2018-08-09T09:22:03.658381Z",
     "start_time": "2018-08-09T09:19:16.475882Z"
    }
   },
   "outputs": [
    {
     "name": "stdout",
     "output_type": "stream",
     "text": [
      "NLP ONLY\n",
      "             precision    recall  f1-score   support\n",
      "\n",
      "          0       0.97      0.83      0.90     35937\n",
      "          1       0.34      0.77      0.47      3950\n",
      "\n",
      "avg / total       0.91      0.83      0.85     39887\n",
      "\n",
      "        predicted_0  predicted_1\n",
      "true_0        29977         5960\n",
      "true_1          909         3041 \n",
      "\n",
      "NLP only score:  0.8277885025196179 \n",
      "\n",
      "COMBINED\n",
      "             precision    recall  f1-score   support\n",
      "\n",
      "          0       0.97      0.86      0.91     35937\n",
      "          1       0.37      0.72      0.49      3950\n",
      "\n",
      "avg / total       0.91      0.85      0.87     39887\n",
      "\n",
      "        predicted_0  predicted_1\n",
      "true_0        30995         4942\n",
      "true_1         1099         2851 \n",
      "\n",
      "Combined score:  0.8485471456865645\n"
     ]
    }
   ],
   "source": [
    "nlpscorer(tfidf, logit)"
   ]
  },
  {
   "cell_type": "code",
   "execution_count": 242,
   "metadata": {
    "ExecuteTime": {
     "end_time": "2018-08-09T09:33:55.014563Z",
     "start_time": "2018-08-09T09:22:03.661377Z"
    }
   },
   "outputs": [
    {
     "name": "stdout",
     "output_type": "stream",
     "text": [
      "NLP ONLY\n",
      "             precision    recall  f1-score   support\n",
      "\n",
      "          0       0.95      0.89      0.92     35903\n",
      "          1       0.37      0.58      0.45      3984\n",
      "\n",
      "avg / total       0.89      0.86      0.87     39887\n",
      "\n",
      "        predicted_0  predicted_1\n",
      "true_0        31897         4006\n",
      "true_1         1678         2306 \n",
      "\n",
      "NLP only score:  0.8574974302404292 \n",
      "\n",
      "COMBINED\n",
      "             precision    recall  f1-score   support\n",
      "\n",
      "          0       0.96      0.78      0.86     35903\n",
      "          1       0.26      0.73      0.39      3984\n",
      "\n",
      "avg / total       0.89      0.77      0.81     39887\n",
      "\n",
      "        predicted_0  predicted_1\n",
      "true_0        27835         8068\n",
      "true_1         1079         2905 \n",
      "\n",
      "Combined score:  0.7706771629854339\n"
     ]
    }
   ],
   "source": [
    "nlpscorer(tfidf, rfc)"
   ]
  },
  {
   "cell_type": "code",
   "execution_count": 243,
   "metadata": {
    "ExecuteTime": {
     "end_time": "2018-08-09T09:51:23.531254Z",
     "start_time": "2018-08-09T09:33:55.017546Z"
    }
   },
   "outputs": [
    {
     "name": "stdout",
     "output_type": "stream",
     "text": [
      "NLP ONLY\n",
      "             precision    recall  f1-score   support\n",
      "\n",
      "          0       0.97      0.62      0.76     35919\n",
      "          1       0.20      0.84      0.32      3968\n",
      "\n",
      "avg / total       0.89      0.64      0.71     39887\n",
      "\n",
      "        predicted_0  predicted_1\n",
      "true_0        22323        13596\n",
      "true_1          647         3321 \n",
      "\n",
      "NLP only score:  0.6429162383734048 \n",
      "\n",
      "COMBINED\n",
      "             precision    recall  f1-score   support\n",
      "\n",
      "          0       0.96      0.81      0.88     35919\n",
      "          1       0.29      0.72      0.41      3968\n",
      "\n",
      "avg / total       0.90      0.80      0.83     39887\n",
      "\n",
      "        predicted_0  predicted_1\n",
      "true_0        28934         6985\n",
      "true_1         1123         2845 \n",
      "\n",
      "Combined score:  0.7967257502444406\n"
     ]
    }
   ],
   "source": [
    "nlpscorer(tfidf, xgboost)"
   ]
  },
  {
   "cell_type": "code",
   "execution_count": 244,
   "metadata": {
    "ExecuteTime": {
     "end_time": "2018-08-09T09:56:49.803877Z",
     "start_time": "2018-08-09T09:51:23.534234Z"
    }
   },
   "outputs": [
    {
     "name": "stdout",
     "output_type": "stream",
     "text": [
      "NLP ONLY\n",
      "             precision    recall  f1-score   support\n",
      "\n",
      "          0       0.98      0.79      0.87     35899\n",
      "          1       0.31      0.83      0.45      3988\n",
      "\n",
      "avg / total       0.91      0.79      0.83     39887\n",
      "\n",
      "        predicted_0  predicted_1\n",
      "true_0        28397         7502\n",
      "true_1          676         3312 \n",
      "\n",
      "NLP only score:  0.7949707924887808 \n",
      "\n",
      "COMBINED\n",
      "             precision    recall  f1-score   support\n",
      "\n",
      "          0       0.97      0.80      0.88     35899\n",
      "          1       0.31      0.81      0.45      3988\n",
      "\n",
      "avg / total       0.91      0.80      0.83     39887\n",
      "\n",
      "        predicted_0  predicted_1\n",
      "true_0        28656         7243\n",
      "true_1          745         3243 \n",
      "\n",
      "Combined score:  0.7997342492541429\n"
     ]
    }
   ],
   "source": [
    "nlpscorer(cv, logit)"
   ]
  },
  {
   "cell_type": "code",
   "execution_count": 245,
   "metadata": {
    "ExecuteTime": {
     "end_time": "2018-08-09T10:08:22.463397Z",
     "start_time": "2018-08-09T09:56:49.805856Z"
    }
   },
   "outputs": [
    {
     "name": "stdout",
     "output_type": "stream",
     "text": [
      "NLP ONLY\n",
      "             precision    recall  f1-score   support\n",
      "\n",
      "          0       0.95      0.87      0.91     35895\n",
      "          1       0.35      0.61      0.44      3992\n",
      "\n",
      "avg / total       0.89      0.85      0.86     39887\n",
      "\n",
      "        predicted_0  predicted_1\n",
      "true_0        31335         4560\n",
      "true_1         1557         2435 \n",
      "\n",
      "NLP only score:  0.8466417629804197 \n",
      "\n",
      "COMBINED\n",
      "             precision    recall  f1-score   support\n",
      "\n",
      "          0       0.97      0.75      0.84     35895\n",
      "          1       0.25      0.76      0.38      3992\n",
      "\n",
      "avg / total       0.89      0.75      0.80     39887\n",
      "\n",
      "        predicted_0  predicted_1\n",
      "true_0        26884         9011\n",
      "true_1          966         3026 \n",
      "\n",
      "Combined score:  0.7498683781683255\n"
     ]
    }
   ],
   "source": [
    "nlpscorer(cv, rfc)"
   ]
  },
  {
   "cell_type": "code",
   "execution_count": 246,
   "metadata": {
    "ExecuteTime": {
     "end_time": "2018-08-09T10:25:27.470192Z",
     "start_time": "2018-08-09T10:08:22.467395Z"
    }
   },
   "outputs": [
    {
     "name": "stdout",
     "output_type": "stream",
     "text": [
      "NLP ONLY\n",
      "             precision    recall  f1-score   support\n",
      "\n",
      "          0       0.97      0.62      0.76     35907\n",
      "          1       0.19      0.82      0.31      3980\n",
      "\n",
      "avg / total       0.89      0.64      0.71     39887\n",
      "\n",
      "        predicted_0  predicted_1\n",
      "true_0        22253        13654\n",
      "true_1          697         3283 \n",
      "\n",
      "NLP only score:  0.6402085892646727 \n",
      "\n",
      "COMBINED\n",
      "             precision    recall  f1-score   support\n",
      "\n",
      "          0       0.96      0.81      0.88     35907\n",
      "          1       0.29      0.72      0.42      3980\n",
      "\n",
      "avg / total       0.90      0.80      0.83     39887\n",
      "\n",
      "        predicted_0  predicted_1\n",
      "true_0        28912         6995\n",
      "true_1         1101         2879 \n",
      "\n",
      "Combined score:  0.7970266001454108\n"
     ]
    }
   ],
   "source": [
    "nlpscorer(cv, xgboost)"
   ]
  },
  {
   "cell_type": "code",
   "execution_count": 247,
   "metadata": {
    "ExecuteTime": {
     "end_time": "2018-08-09T10:27:02.118213Z",
     "start_time": "2018-08-09T10:25:27.503220Z"
    }
   },
   "outputs": [
    {
     "name": "stdout",
     "output_type": "stream",
     "text": [
      "NLP ONLY\n",
      "             precision    recall  f1-score   support\n",
      "\n",
      "          0       0.99      0.13      0.23     35823\n",
      "          1       0.11      0.99      0.21      4064\n",
      "\n",
      "avg / total       0.90      0.22      0.23     39887\n",
      "\n",
      "        predicted_0  predicted_1\n",
      "true_0         4602        31221\n",
      "true_1           31         4033 \n",
      "\n",
      "NLP only score:  0.2164865745731692 \n",
      "\n",
      "COMBINED\n",
      "             precision    recall  f1-score   support\n",
      "\n",
      "          0       0.99      0.13      0.23     35823\n",
      "          1       0.11      0.99      0.21      4064\n",
      "\n",
      "avg / total       0.90      0.22      0.23     39887\n",
      "\n",
      "        predicted_0  predicted_1\n",
      "true_0         4611        31212\n",
      "true_1           30         4034 \n",
      "\n",
      "Combined score:  0.21673728282397775\n"
     ]
    }
   ],
   "source": [
    "nlpscorer(cv, nb)"
   ]
  },
  {
   "cell_type": "code",
   "execution_count": 248,
   "metadata": {
    "ExecuteTime": {
     "end_time": "2018-08-09T10:29:33.721970Z",
     "start_time": "2018-08-09T10:27:02.120215Z"
    }
   },
   "outputs": [
    {
     "name": "stdout",
     "output_type": "stream",
     "text": [
      "NLP ONLY\n",
      "             precision    recall  f1-score   support\n",
      "\n",
      "          0       0.99      0.13      0.22     35923\n",
      "          1       0.11      0.99      0.20      3964\n",
      "\n",
      "avg / total       0.90      0.21      0.22     39887\n",
      "\n",
      "        predicted_0  predicted_1\n",
      "true_0         4536        31387\n",
      "true_1           36         3928 \n",
      "\n",
      "NLP only score:  0.21219946348434326 \n",
      "\n",
      "COMBINED\n",
      "             precision    recall  f1-score   support\n",
      "\n",
      "          0       0.99      0.13      0.22     35923\n",
      "          1       0.11      0.99      0.20      3964\n",
      "\n",
      "avg / total       0.90      0.21      0.22     39887\n",
      "\n",
      "        predicted_0  predicted_1\n",
      "true_0         4541        31382\n",
      "true_1           36         3928 \n",
      "\n",
      "Combined score:  0.21232481760974753\n"
     ]
    }
   ],
   "source": [
    "nlpscorer(tfidf, nb)"
   ]
  },
  {
   "cell_type": "code",
   "execution_count": 251,
   "metadata": {
    "ExecuteTime": {
     "end_time": "2018-08-09T12:32:48.094493Z",
     "start_time": "2018-08-09T10:52:52.092718Z"
    }
   },
   "outputs": [
    {
     "name": "stdout",
     "output_type": "stream",
     "text": [
      "NLP ONLY\n",
      "             precision    recall  f1-score   support\n",
      "\n",
      "          0       0.91      1.00      0.95     35934\n",
      "          1       0.87      0.15      0.25      3953\n",
      "\n",
      "avg / total       0.91      0.91      0.88     39887\n",
      "\n",
      "        predicted_0  predicted_1\n",
      "true_0        35847           87\n",
      "true_1         3378          575 \n",
      "\n",
      "NLP only score:  0.9131295910948429 \n",
      "\n",
      "COMBINED\n",
      "             precision    recall  f1-score   support\n",
      "\n",
      "          0       0.94      0.18      0.31     35934\n",
      "          1       0.11      0.90      0.19      3953\n",
      "\n",
      "avg / total       0.86      0.25      0.29     39887\n",
      "\n",
      "        predicted_0  predicted_1\n",
      "true_0         6542        29392\n",
      "true_1          393         3560 \n",
      "\n",
      "Combined score:  0.25326547496678115\n"
     ]
    }
   ],
   "source": [
    "nlpscorer(tfidf, svc)"
   ]
  },
  {
   "cell_type": "code",
   "execution_count": null,
   "metadata": {},
   "outputs": [],
   "source": []
  }
 ],
 "metadata": {
  "kernelspec": {
   "display_name": "Python 3",
   "language": "python",
   "name": "python3"
  },
  "language_info": {
   "codemirror_mode": {
    "name": "ipython",
    "version": 3
   },
   "file_extension": ".py",
   "mimetype": "text/x-python",
   "name": "python",
   "nbconvert_exporter": "python",
   "pygments_lexer": "ipython3",
   "version": "3.6.4"
  },
  "toc": {
   "base_numbering": 1,
   "nav_menu": {},
   "number_sections": true,
   "sideBar": true,
   "skip_h1_title": false,
   "title_cell": "Table of Contents",
   "title_sidebar": "Contents",
   "toc_cell": true,
   "toc_position": {},
   "toc_section_display": true,
   "toc_window_display": false
  }
 },
 "nbformat": 4,
 "nbformat_minor": 2
}