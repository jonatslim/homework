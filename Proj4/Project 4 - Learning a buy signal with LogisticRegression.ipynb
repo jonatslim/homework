{
 "cells": [
  {
   "cell_type": "markdown",
   "metadata": {},
   "source": [
    "# Business Problem: \n",
    "\n",
    "Learn a buy signal from an already existing trading rule.\n",
    "\n",
    "The current trading has a problem. The rule has more loses than wins. This is because the trading rules is set by if-else-then logic and these logic are very rigid. To understand this better, image a piece of cheese. of course,we only want the meat. The holes are analogy for failed trades while the meat represents the successfull trades. In this situation, we want our cheese to have at least 2/3 meat with maximum 1/3 holes.\n",
    "\n",
    "We aim to capture a subset of the trading rule, whose logic is not based on static if-then-else statements but wit hMachine Learning.\n",
    "\n",
    "![NN](cheese.jpg)\n",
    "\n",
    "\n",
    "This is the current strategy is like this cheese. Got more holes that meat. \n",
    "\n",
    "\n",
    "\n",
    "## Feature Engineering:\n",
    "All information from Foreign-Exchange providers are the same - the OHLC.\n",
    " - O -  open price for the period\n",
    " - H -  high price for the period\n",
    " - L -   low price for the period\n",
    " - C - close price for the period\n",
    "\n",
    "These are the basic buildling blocks of our Fields. Unfortunately, we can't use these in their raw form. we need to mix and combine them - on certain relevant ways - that can help our Machine Learning Algorithm to create a rule. The following concepts are high introductions that we will use to Feature Engineer our fields ( columns )  \n",
    "\n",
    "### Period\n",
    "Each row of data (OHLC) is time-bound by a period. Period could be M1, M5, M15, H1, H4, D1, W or M. We will use the following for our dataset. \n",
    " - M15 or 15-minute\n",
    " - H1 or 1-Hour period\n",
    " - H4 or 4-Hour period\n",
    "\n",
    "### Stochastic Oscillator Formula\n",
    "\n",
    "> %K = 100(C - L14)/(H14 - L14)\n",
    ">\n",
    "> Where:\n",
    "> - C = the most recent closing price\n",
    "> - L14 = the low of the 14 previous trading sessions\n",
    "> - H14 = the highest price traded during the same 14-day period\n",
    "> - %K= the current market rate for the currency pair\n",
    "> - %D = 3-period moving average of %K\n",
    "\n",
    "Read more: Stochastic Oscillator https://www.investopedia.com/terms/s/stochasticoscillator.asp#ixzz5S0c7KDgw \n",
    "\n",
    "### Bollinger Band\n",
    "> A Bollinger Band is a set of lines plotted two standard deviations (positively and negatively) away from a simple moving average of the security's price. A Bollinger Band, developed by famous technical trader John Bollinger, is normally plotted two standard deviations away from a simple moving average but can be adjusted to user preferences.\n",
    "\n",
    "Read more: Bollinger Band https://www.investopedia.com/terms/b/bollingerbands.asp#ixzz5S0efY97S \n",
    "\n",
    "\n",
    "### Fields / Columns\n",
    "Our field will be Stochastic Osccillator detect momentum strength and Bollinger Band to detect direction at m15, h1 and h4. The idea is to capture the direction and strength of movement using these 2 indicators.\n",
    "\n",
    "### Other Trading-related matters\n",
    "\n",
    "This data is for EURUSD, which means the data is sensitive to European Euro and American Dollar. From trading class, EURUSD is sensitive to 3 news events: US NFP (Non-Farm Payroll) Report and ECB (European Central Bank) Interest Rate Decision and FOMC (Federal Open Market Committee) Interest Rate Decision. These 3 events are scheduled through-out the year with different intervals. ( NFP are release every 1st friday of the month while FOMC and ECB Interest Rate adjustment happens 8 times in a year). \n",
    "\n",
    "We include the Week number to factor in this information. We expect Week number to factor in the change in direction for mid-term to long term. Month / Day and Hour are to factor in the changes in the short - mid term. \n",
    "\n",
    "### Want column\n",
    "This column is where some trading-related concepts is applied. A trade that is profitable with the proper Risk and Reward Ratio is the type of trades we want.  \n",
    "\n",
    "![want](want_sample.jpg)\n",
    "\n",
    "Sample of trades that are \"True\" "
   ]
  },
  {
   "cell_type": "markdown",
   "metadata": {},
   "source": [
    "## Exploratory Data Analysis"
   ]
  },
  {
   "cell_type": "code",
   "execution_count": 12,
   "metadata": {},
   "outputs": [
    {
     "data": {
      "text/html": [
       "<div>\n",
       "<style scoped>\n",
       "    .dataframe tbody tr th:only-of-type {\n",
       "        vertical-align: middle;\n",
       "    }\n",
       "\n",
       "    .dataframe tbody tr th {\n",
       "        vertical-align: top;\n",
       "    }\n",
       "\n",
       "    .dataframe thead th {\n",
       "        text-align: right;\n",
       "    }\n",
       "</style>\n",
       "<table border=\"1\" class=\"dataframe\">\n",
       "  <thead>\n",
       "    <tr style=\"text-align: right;\">\n",
       "      <th></th>\n",
       "      <th>week</th>\n",
       "      <th>month</th>\n",
       "      <th>day</th>\n",
       "      <th>hour</th>\n",
       "      <th>stoch_m15</th>\n",
       "      <th>stoch_h1</th>\n",
       "      <th>stoch_h4</th>\n",
       "      <th>bband_m15</th>\n",
       "      <th>bband_h1</th>\n",
       "      <th>bband_h4</th>\n",
       "      <th>want</th>\n",
       "    </tr>\n",
       "  </thead>\n",
       "  <tbody>\n",
       "    <tr>\n",
       "      <th>0</th>\n",
       "      <td>1</td>\n",
       "      <td>1</td>\n",
       "      <td>1</td>\n",
       "      <td>0</td>\n",
       "      <td>66.67</td>\n",
       "      <td>100.00</td>\n",
       "      <td>100.00</td>\n",
       "      <td>65.21</td>\n",
       "      <td>82.41</td>\n",
       "      <td>159.61</td>\n",
       "      <td>False</td>\n",
       "    </tr>\n",
       "    <tr>\n",
       "      <th>1</th>\n",
       "      <td>1</td>\n",
       "      <td>1</td>\n",
       "      <td>1</td>\n",
       "      <td>0</td>\n",
       "      <td>81.48</td>\n",
       "      <td>100.00</td>\n",
       "      <td>100.00</td>\n",
       "      <td>49.24</td>\n",
       "      <td>82.41</td>\n",
       "      <td>159.61</td>\n",
       "      <td>False</td>\n",
       "    </tr>\n",
       "    <tr>\n",
       "      <th>2</th>\n",
       "      <td>1</td>\n",
       "      <td>1</td>\n",
       "      <td>1</td>\n",
       "      <td>8</td>\n",
       "      <td>60.00</td>\n",
       "      <td>91.11</td>\n",
       "      <td>97.90</td>\n",
       "      <td>32.81</td>\n",
       "      <td>66.94</td>\n",
       "      <td>118.31</td>\n",
       "      <td>False</td>\n",
       "    </tr>\n",
       "    <tr>\n",
       "      <th>3</th>\n",
       "      <td>1</td>\n",
       "      <td>1</td>\n",
       "      <td>1</td>\n",
       "      <td>14</td>\n",
       "      <td>46.43</td>\n",
       "      <td>83.33</td>\n",
       "      <td>97.17</td>\n",
       "      <td>47.32</td>\n",
       "      <td>64.21</td>\n",
       "      <td>103.40</td>\n",
       "      <td>False</td>\n",
       "    </tr>\n",
       "    <tr>\n",
       "      <th>4</th>\n",
       "      <td>1</td>\n",
       "      <td>1</td>\n",
       "      <td>1</td>\n",
       "      <td>15</td>\n",
       "      <td>50.00</td>\n",
       "      <td>70.45</td>\n",
       "      <td>97.17</td>\n",
       "      <td>46.79</td>\n",
       "      <td>58.92</td>\n",
       "      <td>103.40</td>\n",
       "      <td>False</td>\n",
       "    </tr>\n",
       "  </tbody>\n",
       "</table>\n",
       "</div>"
      ],
      "text/plain": [
       "   week  month  day  hour  stoch_m15  stoch_h1  stoch_h4  bband_m15  bband_h1  \\\n",
       "0     1      1    1     0      66.67    100.00    100.00      65.21     82.41   \n",
       "1     1      1    1     0      81.48    100.00    100.00      49.24     82.41   \n",
       "2     1      1    1     8      60.00     91.11     97.90      32.81     66.94   \n",
       "3     1      1    1    14      46.43     83.33     97.17      47.32     64.21   \n",
       "4     1      1    1    15      50.00     70.45     97.17      46.79     58.92   \n",
       "\n",
       "   bband_h4   want  \n",
       "0    159.61  False  \n",
       "1    159.61  False  \n",
       "2    118.31  False  \n",
       "3    103.40  False  \n",
       "4    103.40  False  "
      ]
     },
     "execution_count": 12,
     "metadata": {},
     "output_type": "execute_result"
    }
   ],
   "source": [
    "import pandas as pd                           # load pandas, numpy, seaborn and matplotlib for this project.\n",
    "import numpy as np\n",
    "import seaborn as sns\n",
    "import matplotlib.pyplot as plt\n",
    "%matplotlib inline\n",
    "\n",
    "DataScience = pd.read_csv('DataScience.csv')   # Read the data from the file.\n",
    "DataScience.head()                             # see the headers of the data"
   ]
  },
  {
   "cell_type": "code",
   "execution_count": 13,
   "metadata": {},
   "outputs": [
    {
     "data": {
      "text/plain": [
       "(435213, 11)"
      ]
     },
     "execution_count": 13,
     "metadata": {},
     "output_type": "execute_result"
    }
   ],
   "source": [
    "DataScience.shape"
   ]
  },
  {
   "cell_type": "code",
   "execution_count": 14,
   "metadata": {},
   "outputs": [
    {
     "data": {
      "text/plain": [
       "0"
      ]
     },
     "execution_count": 14,
     "metadata": {},
     "output_type": "execute_result"
    }
   ],
   "source": [
    "DataScience.columns.isnull().sum()                 # locate null points in all columns. None Seen."
   ]
  },
  {
   "cell_type": "code",
   "execution_count": 15,
   "metadata": {},
   "outputs": [
    {
     "name": "stdout",
     "output_type": "stream",
     "text": [
      "<class 'pandas.core.frame.DataFrame'>\n",
      "RangeIndex: 435213 entries, 0 to 435212\n",
      "Data columns (total 11 columns):\n",
      "week         435213 non-null int64\n",
      "month        435213 non-null int64\n",
      "day          435213 non-null int64\n",
      "hour         435213 non-null int64\n",
      "stoch_m15    435213 non-null float64\n",
      "stoch_h1     435213 non-null float64\n",
      "stoch_h4     435213 non-null float64\n",
      "bband_m15    435213 non-null float64\n",
      "bband_h1     435213 non-null float64\n",
      "bband_h4     435213 non-null float64\n",
      "want         435213 non-null bool\n",
      "dtypes: bool(1), float64(6), int64(4)\n",
      "memory usage: 33.6 MB\n"
     ]
    }
   ],
   "source": [
    "DataScience.info()\n",
    "# below is how the columns are suppose to be.\n",
    "#week       // week number                            1 to 52\n",
    "#month      // month number                           1 to 12\n",
    "#hour       // hour of day                            0 to 23\n",
    "#day        // day of the week                        0 to 7 - Monday to Sunday\n",
    "#stoch_m15  // stochastic value at the m15 - 5,3,3    0 - 100\n",
    "#stoch_h1   // stochastic value at the h1 - 5,3,3     0 - 100\n",
    "#stoch_h4   // stochastic value at the h4 - 5,3,3     0 - 100\n",
    "#bband_m15  // m15 bollinger band (20,0,2) value      0 - 150%?\n",
    "#bband_h1   // h1  bollinger band (20,0,2) value      0 - 150%?\n",
    "#bband_h4   // h4  bollinger band (20,0,2) value      0 - 150%?\n",
    "#want       // target field for ML                    True / False\n",
    "\n",
    "# Expected dytpes are correctly loaded."
   ]
  },
  {
   "cell_type": "code",
   "execution_count": 16,
   "metadata": {
    "scrolled": true
   },
   "outputs": [
    {
     "data": {
      "text/html": [
       "<div>\n",
       "<style scoped>\n",
       "    .dataframe tbody tr th:only-of-type {\n",
       "        vertical-align: middle;\n",
       "    }\n",
       "\n",
       "    .dataframe tbody tr th {\n",
       "        vertical-align: top;\n",
       "    }\n",
       "\n",
       "    .dataframe thead th {\n",
       "        text-align: right;\n",
       "    }\n",
       "</style>\n",
       "<table border=\"1\" class=\"dataframe\">\n",
       "  <thead>\n",
       "    <tr style=\"text-align: right;\">\n",
       "      <th></th>\n",
       "      <th>week</th>\n",
       "      <th>month</th>\n",
       "      <th>day</th>\n",
       "      <th>hour</th>\n",
       "      <th>stoch_m15</th>\n",
       "      <th>stoch_h1</th>\n",
       "      <th>stoch_h4</th>\n",
       "      <th>bband_m15</th>\n",
       "      <th>bband_h1</th>\n",
       "      <th>bband_h4</th>\n",
       "      <th>want</th>\n",
       "    </tr>\n",
       "  </thead>\n",
       "  <tbody>\n",
       "    <tr>\n",
       "      <th>count</th>\n",
       "      <td>435213.00000</td>\n",
       "      <td>435213.000000</td>\n",
       "      <td>435213.000000</td>\n",
       "      <td>435213.000000</td>\n",
       "      <td>435213.000000</td>\n",
       "      <td>435213.000000</td>\n",
       "      <td>435213.000000</td>\n",
       "      <td>435213.000000</td>\n",
       "      <td>435213.000000</td>\n",
       "      <td>435213.000000</td>\n",
       "      <td>435213</td>\n",
       "    </tr>\n",
       "    <tr>\n",
       "      <th>unique</th>\n",
       "      <td>NaN</td>\n",
       "      <td>NaN</td>\n",
       "      <td>NaN</td>\n",
       "      <td>NaN</td>\n",
       "      <td>NaN</td>\n",
       "      <td>NaN</td>\n",
       "      <td>NaN</td>\n",
       "      <td>NaN</td>\n",
       "      <td>NaN</td>\n",
       "      <td>NaN</td>\n",
       "      <td>2</td>\n",
       "    </tr>\n",
       "    <tr>\n",
       "      <th>top</th>\n",
       "      <td>NaN</td>\n",
       "      <td>NaN</td>\n",
       "      <td>NaN</td>\n",
       "      <td>NaN</td>\n",
       "      <td>NaN</td>\n",
       "      <td>NaN</td>\n",
       "      <td>NaN</td>\n",
       "      <td>NaN</td>\n",
       "      <td>NaN</td>\n",
       "      <td>NaN</td>\n",
       "      <td>False</td>\n",
       "    </tr>\n",
       "    <tr>\n",
       "      <th>freq</th>\n",
       "      <td>NaN</td>\n",
       "      <td>NaN</td>\n",
       "      <td>NaN</td>\n",
       "      <td>NaN</td>\n",
       "      <td>NaN</td>\n",
       "      <td>NaN</td>\n",
       "      <td>NaN</td>\n",
       "      <td>NaN</td>\n",
       "      <td>NaN</td>\n",
       "      <td>NaN</td>\n",
       "      <td>391207</td>\n",
       "    </tr>\n",
       "    <tr>\n",
       "      <th>mean</th>\n",
       "      <td>26.48422</td>\n",
       "      <td>6.466195</td>\n",
       "      <td>2.990605</td>\n",
       "      <td>11.453674</td>\n",
       "      <td>50.234412</td>\n",
       "      <td>50.378678</td>\n",
       "      <td>50.790941</td>\n",
       "      <td>55.705812</td>\n",
       "      <td>57.714467</td>\n",
       "      <td>57.422285</td>\n",
       "      <td>NaN</td>\n",
       "    </tr>\n",
       "    <tr>\n",
       "      <th>std</th>\n",
       "      <td>14.94437</td>\n",
       "      <td>3.424949</td>\n",
       "      <td>1.410580</td>\n",
       "      <td>6.893196</td>\n",
       "      <td>33.392176</td>\n",
       "      <td>33.857653</td>\n",
       "      <td>35.178644</td>\n",
       "      <td>36.885891</td>\n",
       "      <td>37.377573</td>\n",
       "      <td>35.085463</td>\n",
       "      <td>NaN</td>\n",
       "    </tr>\n",
       "    <tr>\n",
       "      <th>min</th>\n",
       "      <td>1.00000</td>\n",
       "      <td>1.000000</td>\n",
       "      <td>1.000000</td>\n",
       "      <td>0.000000</td>\n",
       "      <td>0.000000</td>\n",
       "      <td>0.000000</td>\n",
       "      <td>0.000000</td>\n",
       "      <td>0.000000</td>\n",
       "      <td>0.000000</td>\n",
       "      <td>0.000000</td>\n",
       "      <td>NaN</td>\n",
       "    </tr>\n",
       "    <tr>\n",
       "      <th>25%</th>\n",
       "      <td>13.00000</td>\n",
       "      <td>3.000000</td>\n",
       "      <td>2.000000</td>\n",
       "      <td>5.000000</td>\n",
       "      <td>18.750000</td>\n",
       "      <td>18.000000</td>\n",
       "      <td>16.020000</td>\n",
       "      <td>26.540000</td>\n",
       "      <td>28.940000</td>\n",
       "      <td>29.460000</td>\n",
       "      <td>NaN</td>\n",
       "    </tr>\n",
       "    <tr>\n",
       "      <th>50%</th>\n",
       "      <td>26.00000</td>\n",
       "      <td>6.000000</td>\n",
       "      <td>3.000000</td>\n",
       "      <td>11.000000</td>\n",
       "      <td>50.000000</td>\n",
       "      <td>50.480000</td>\n",
       "      <td>51.820000</td>\n",
       "      <td>50.850000</td>\n",
       "      <td>52.770000</td>\n",
       "      <td>54.760000</td>\n",
       "      <td>NaN</td>\n",
       "    </tr>\n",
       "    <tr>\n",
       "      <th>75%</th>\n",
       "      <td>39.00000</td>\n",
       "      <td>9.000000</td>\n",
       "      <td>4.000000</td>\n",
       "      <td>17.000000</td>\n",
       "      <td>81.820000</td>\n",
       "      <td>82.720000</td>\n",
       "      <td>85.460000</td>\n",
       "      <td>78.700000</td>\n",
       "      <td>80.480000</td>\n",
       "      <td>81.100000</td>\n",
       "      <td>NaN</td>\n",
       "    </tr>\n",
       "    <tr>\n",
       "      <th>max</th>\n",
       "      <td>53.00000</td>\n",
       "      <td>12.000000</td>\n",
       "      <td>5.000000</td>\n",
       "      <td>23.000000</td>\n",
       "      <td>100.000000</td>\n",
       "      <td>100.000000</td>\n",
       "      <td>100.000000</td>\n",
       "      <td>217.480000</td>\n",
       "      <td>215.280000</td>\n",
       "      <td>205.130000</td>\n",
       "      <td>NaN</td>\n",
       "    </tr>\n",
       "  </tbody>\n",
       "</table>\n",
       "</div>"
      ],
      "text/plain": [
       "                week          month            day           hour  \\\n",
       "count   435213.00000  435213.000000  435213.000000  435213.000000   \n",
       "unique           NaN            NaN            NaN            NaN   \n",
       "top              NaN            NaN            NaN            NaN   \n",
       "freq             NaN            NaN            NaN            NaN   \n",
       "mean        26.48422       6.466195       2.990605      11.453674   \n",
       "std         14.94437       3.424949       1.410580       6.893196   \n",
       "min          1.00000       1.000000       1.000000       0.000000   \n",
       "25%         13.00000       3.000000       2.000000       5.000000   \n",
       "50%         26.00000       6.000000       3.000000      11.000000   \n",
       "75%         39.00000       9.000000       4.000000      17.000000   \n",
       "max         53.00000      12.000000       5.000000      23.000000   \n",
       "\n",
       "            stoch_m15       stoch_h1       stoch_h4      bband_m15  \\\n",
       "count   435213.000000  435213.000000  435213.000000  435213.000000   \n",
       "unique            NaN            NaN            NaN            NaN   \n",
       "top               NaN            NaN            NaN            NaN   \n",
       "freq              NaN            NaN            NaN            NaN   \n",
       "mean        50.234412      50.378678      50.790941      55.705812   \n",
       "std         33.392176      33.857653      35.178644      36.885891   \n",
       "min          0.000000       0.000000       0.000000       0.000000   \n",
       "25%         18.750000      18.000000      16.020000      26.540000   \n",
       "50%         50.000000      50.480000      51.820000      50.850000   \n",
       "75%         81.820000      82.720000      85.460000      78.700000   \n",
       "max        100.000000     100.000000     100.000000     217.480000   \n",
       "\n",
       "             bband_h1       bband_h4    want  \n",
       "count   435213.000000  435213.000000  435213  \n",
       "unique            NaN            NaN       2  \n",
       "top               NaN            NaN   False  \n",
       "freq              NaN            NaN  391207  \n",
       "mean        57.714467      57.422285     NaN  \n",
       "std         37.377573      35.085463     NaN  \n",
       "min          0.000000       0.000000     NaN  \n",
       "25%         28.940000      29.460000     NaN  \n",
       "50%         52.770000      54.760000     NaN  \n",
       "75%         80.480000      81.100000     NaN  \n",
       "max        215.280000     205.130000     NaN  "
      ]
     },
     "execution_count": 16,
     "metadata": {},
     "output_type": "execute_result"
    }
   ],
   "source": [
    "DataScience.describe(include='all')             # let's check out our columns"
   ]
  },
  {
   "cell_type": "markdown",
   "metadata": {},
   "source": [
    " > __how come weeks got 53 ? there is something wrong with the Raw data __\n",
    " Current calculation of Epoch Week causes the week 53. This 'week' data needs to be re-think (on how to get) \n",
    " \n",
    " __day is 1 to 5 only ? must comment that RAW data is of which timezone__\n",
    " Singapore +8GMT is Broker is +5GMT. \n",
    " Broker closes at Friday 2359 (+5GMT) which is Singapore Sat 0259 (+8GMT)\n",
    " Broker Opens at Monday 0001 (+5GMT) which is Singapore Monday 0300 (+8 GMT)\n",
    " These opening and closing information are FYI only. They should not affect the data  \n",
    "\n",
    " > __bband has max out at 217% !__"
   ]
  },
  {
   "cell_type": "code",
   "execution_count": 17,
   "metadata": {},
   "outputs": [
    {
     "name": "stdout",
     "output_type": "stream",
     "text": [
      "        week  month  day  hour  stoch_m15  stoch_h1  stoch_h4  bband_m15  \\\n",
      "4114       9      3    4    23      87.50     47.76    100.00       8.02   \n",
      "4115       9      3    4    23      87.50     47.76    100.00       8.02   \n",
      "8678      19      5    2    14       0.00     46.00      0.00      55.07   \n",
      "8679      19      5    2    14       0.00     46.00      0.00      55.07   \n",
      "11228     24      6    4     4     100.00     48.28     51.69      48.04   \n",
      "11229     24      6    4     4     100.00     48.28     51.69      48.04   \n",
      "11230     24      6    4     5     100.00     51.61     51.69      58.59   \n",
      "11231     24      6    4     5     100.00     51.61     51.69      58.59   \n",
      "13920     30      7    2     6       0.00     75.00     60.38      24.79   \n",
      "13921     30      7    2     6       0.00     75.00     60.38      24.79   \n",
      "14101     30      7    4     3     100.00     18.18    100.00       6.39   \n",
      "14102     30      7    4     3     100.00     18.18    100.00       6.39   \n",
      "17384     37      9    3    10       0.00     32.50     78.82     121.95   \n",
      "17385     37      9    3    10       0.00     32.50     78.82     121.95   \n",
      "32481     17      4    2     1       0.00     71.43     18.37      79.14   \n",
      "32482     17      4    2     1       0.00     71.43     18.37      79.14   \n",
      "35152     22      5    4    21       0.00     85.90    100.00      44.47   \n",
      "35153     22      5    4    21       0.00     85.90    100.00      44.47   \n",
      "41429     35      8    5    11     100.00     28.57     25.00      47.45   \n",
      "41430     35      8    5    11     100.00     28.57     25.00      47.45   \n",
      "48056     49     12    4    16     100.00     38.96     16.44       9.42   \n",
      "48057     49     12    4    16     100.00     38.96     16.44       9.42   \n",
      "48080     49     12    4    22     100.00     62.50     20.37      61.31   \n",
      "48081     49     12    4    22     100.00     62.50     20.37      61.31   \n",
      "57794     18      4    2     5     100.00     75.00      0.00     103.80   \n",
      "57795     18      4    2     5     100.00     75.00      0.00     103.80   \n",
      "62593     28      7    2     6      91.67     65.31      0.00      39.50   \n",
      "62594     28      7    2     6      91.67     65.31      0.00      39.50   \n",
      "63966     30      7    1    13       0.00     38.41      1.75      65.28   \n",
      "63967     30      7    1    13       0.00     38.41      1.75      65.28   \n",
      "...      ...    ...  ...   ...        ...       ...       ...        ...   \n",
      "155311    13      3    2     8       0.00     68.18     86.02      67.57   \n",
      "155312    13      3    2     8       0.00     68.18     86.02      67.57   \n",
      "156665    16      4    1    14       0.00     68.00     78.79      53.58   \n",
      "156666    16      4    1    14       0.00     68.00     78.79      53.58   \n",
      "158249    19      5    3     5     100.00     81.25      3.65      86.66   \n",
      "158250    19      5    3     5     100.00     81.25      3.65      86.66   \n",
      "160622    24      6    3     4     100.00     35.29      9.46      36.70   \n",
      "160623    24      6    3     4     100.00     35.29      9.46      36.70   \n",
      "162707    28      7    5     1       0.00     77.78     79.81      13.70   \n",
      "162708    28      7    5     1       0.00     77.78     79.81      13.70   \n",
      "165738    35      8    1    22       5.56     58.62      0.00      63.91   \n",
      "165739    35      8    1    22       5.56     58.62      0.00      63.91   \n",
      "166520    36      9    5     3       0.00     50.00    100.00      81.12   \n",
      "166521    36      9    5     3       0.00     50.00    100.00      81.12   \n",
      "168436    40     10    5     7       0.00     66.67     99.39      30.19   \n",
      "168437    40     10    5     7       0.00     66.67     99.39      30.19   \n",
      "174083    53     12    1     7     100.00     91.67    100.00      29.19   \n",
      "174084    53     12    1     7     100.00     91.67    100.00      29.19   \n",
      "179574    12      3    5    14     100.00     27.64     34.44      44.60   \n",
      "179575    12      3    5    14     100.00     27.64     34.44      44.60   \n",
      "183947    22      5    1    15     100.00     48.65     44.23      85.63   \n",
      "183948    22      5    1    15     100.00     48.65     44.23      85.63   \n",
      "222920    52     12    4     8     100.00     56.28     92.60     112.91   \n",
      "222921    52     12    4     8     100.00     56.28     92.60     112.91   \n",
      "230396    16      4    5    13       0.00     49.06     19.49      51.77   \n",
      "230397    16      4    5    13       0.00     49.06     19.49      51.77   \n",
      "323766     4      1    1    20       0.00     86.59     21.44       4.83   \n",
      "323767     4      1    1    20       0.00     86.59     21.44       4.83   \n",
      "343398    46     11    3     7     100.00     80.69     86.23     133.05   \n",
      "343399    46     11    3     7     100.00     80.69     86.23     133.05   \n",
      "\n",
      "        bband_h1  bband_h4   want  \n",
      "4114       42.82     97.21  False  \n",
      "4115       42.82     97.21  False  \n",
      "8678       84.24     95.39  False  \n",
      "8679       84.24     95.39  False  \n",
      "11228      31.34     59.20  False  \n",
      "11229      31.34     59.20  False  \n",
      "11230      53.06     59.20  False  \n",
      "11231      53.06     59.20  False  \n",
      "13920      47.47     46.96   True  \n",
      "13921      47.47     46.96   True  \n",
      "14101      38.29    101.30  False  \n",
      "14102      38.29    101.30  False  \n",
      "17384      42.30     93.80  False  \n",
      "17385      42.30     93.80  False  \n",
      "32481      15.95     17.21  False  \n",
      "32482      15.95     17.21  False  \n",
      "35152      82.49     82.55  False  \n",
      "35153      82.49     82.55  False  \n",
      "41429      23.97     51.09  False  \n",
      "41430      23.97     51.09  False  \n",
      "48056      17.88     29.24  False  \n",
      "48057      17.88     29.24  False  \n",
      "48080      55.36     17.97  False  \n",
      "48081      55.36     17.97  False  \n",
      "57794      39.64     49.20  False  \n",
      "57795      39.64     49.20  False  \n",
      "62593      24.23     97.44  False  \n",
      "62594      24.23     97.44  False  \n",
      "63966      76.03     10.18  False  \n",
      "63967      76.03     10.18  False  \n",
      "...          ...       ...    ...  \n",
      "155311     21.39     13.62  False  \n",
      "155312     21.39     13.62  False  \n",
      "156665      3.14     70.81  False  \n",
      "156666      3.14     70.81  False  \n",
      "158249      4.46     71.15  False  \n",
      "158250      4.46     71.15  False  \n",
      "160622     51.49     79.90  False  \n",
      "160623     51.49     79.90  False  \n",
      "162707     28.60     53.21  False  \n",
      "162708     28.60     53.21  False  \n",
      "165738     54.78     42.99  False  \n",
      "165739     54.78     42.99  False  \n",
      "166520     26.29     91.84  False  \n",
      "166521     26.29     91.84  False  \n",
      "168436     27.70     20.09  False  \n",
      "168437     27.70     20.09  False  \n",
      "174083     66.56     83.02  False  \n",
      "174084     66.56     83.02  False  \n",
      "179574     64.57     65.94  False  \n",
      "179575     64.57     65.94  False  \n",
      "183947     10.34      2.81  False  \n",
      "183948     10.34      2.81  False  \n",
      "222920     57.62     78.65  False  \n",
      "222921     57.62     78.65  False  \n",
      "230396     73.44     58.59  False  \n",
      "230397     73.44     58.59  False  \n",
      "323766     35.00     24.17  False  \n",
      "323767     35.00     24.17  False  \n",
      "343398     51.30     37.76  False  \n",
      "343399     51.30     37.76  False  \n",
      "\n",
      "[104 rows x 11 columns]\n"
     ]
    },
    {
     "data": {
      "text/plain": [
       "(104, 11)"
      ]
     },
     "execution_count": 17,
     "metadata": {},
     "output_type": "execute_result"
    }
   ],
   "source": [
    "mask = DataScience.duplicated(keep=False)          # create a mask for duplicated items\n",
    "print (DataScience[mask])                          # apply the mask over the Data Set and display it.\n",
    "DataScience[mask].shape                            # see the shape of the duplicated rows / samples"
   ]
  },
  {
   "cell_type": "code",
   "execution_count": 18,
   "metadata": {},
   "outputs": [
    {
     "data": {
      "text/plain": [
       "(435161, 11)"
      ]
     },
     "execution_count": 18,
     "metadata": {},
     "output_type": "execute_result"
    }
   ],
   "source": [
    "DataScience.drop_duplicates(inplace=True)           # 52 entries were duplicate. they were dropped.\n",
    "DataScience.shape                                   # final size is now 52 rows smaller."
   ]
  },
  {
   "cell_type": "markdown",
   "metadata": {},
   "source": [
    "Let's check our Target columns using describe. stoch_xx fields are as expected. \n",
    "We know for a fact that stoch_xx is a percentage value from 0-100. we can confirm from Min, Mean, 50%, Max that the scale is indeed from 0 - 100%."
   ]
  },
  {
   "cell_type": "code",
   "execution_count": 19,
   "metadata": {},
   "outputs": [
    {
     "data": {
      "text/plain": [
       "count    435161.000000\n",
       "mean         50.234094\n",
       "std          33.390028\n",
       "min           0.000000\n",
       "25%          18.750000\n",
       "50%          50.000000\n",
       "75%          81.820000\n",
       "max         100.000000\n",
       "Name: stoch_m15, dtype: float64"
      ]
     },
     "execution_count": 19,
     "metadata": {},
     "output_type": "execute_result"
    }
   ],
   "source": [
    "DataScience.stoch_m15.describe()                         # let's check our target column"
   ]
  },
  {
   "cell_type": "code",
   "execution_count": 20,
   "metadata": {},
   "outputs": [
    {
     "data": {
      "text/plain": [
       "<matplotlib.axes._subplots.AxesSubplot at 0x1bc4d426630>"
      ]
     },
     "execution_count": 20,
     "metadata": {},
     "output_type": "execute_result"
    },
    {
     "data": {
      "image/png": "[encoded data removed]",
      "text/plain": [
       "<Figure size 432x288 with 1 Axes>"
      ]
     },
     "metadata": {},
     "output_type": "display_data"
    }
   ],
   "source": [
    "DataScience.bband_m15.plot(kind='density', xlim=(0, 220))"
   ]
  },
  {
   "cell_type": "markdown",
   "metadata": {},
   "source": [
    "For bband_xxx there range is 0 - 200% but looks like this have a long tail toward the right."
   ]
  },
  {
   "cell_type": "code",
   "execution_count": 21,
   "metadata": {},
   "outputs": [
    {
     "data": {
      "text/plain": [
       "count    435161.000000\n",
       "mean         57.422497\n",
       "std          35.085867\n",
       "min           0.000000\n",
       "25%          29.460000\n",
       "50%          54.760000\n",
       "75%          81.100000\n",
       "max         205.130000\n",
       "Name: bband_h4, dtype: float64"
      ]
     },
     "execution_count": 21,
     "metadata": {},
     "output_type": "execute_result"
    }
   ],
   "source": [
    "DataScience.bband_h4.describe()                         # let's check our target column"
   ]
  },
  {
   "cell_type": "markdown",
   "metadata": {},
   "source": [
    "Panda's .describe() is practically useless for our targe column becues it is a 2-state True vs False thing. "
   ]
  },
  {
   "cell_type": "markdown",
   "metadata": {},
   "source": [
    "### EDA: do we need to do xxxxx?"
   ]
  },
  {
   "cell_type": "code",
   "execution_count": 22,
   "metadata": {},
   "outputs": [
    {
     "data": {
      "text/plain": [
       "<matplotlib.axes._subplots.AxesSubplot at 0x1bc4d4867f0>"
      ]
     },
     "execution_count": 22,
     "metadata": {},
     "output_type": "execute_result"
    },
    {
     "data": {
      "image/png": "[encoded data removed]",
      "text/plain": [
       "<Figure size 432x288 with 1 Axes>"
      ]
     },
     "metadata": {},
     "output_type": "display_data"
    }
   ],
   "source": [
    "DataScience.drop('want', axis=1).plot(kind='box')           # plot only accepts numerical columns. We plot the feature columns\n",
    "                                                            # no new information acquired."
   ]
  },
  {
   "cell_type": "markdown",
   "metadata": {},
   "source": [
    "all values range from 0 - 217. no need to xxxxx"
   ]
  },
  {
   "cell_type": "code",
   "execution_count": 23,
   "metadata": {},
   "outputs": [
    {
     "data": {
      "text/plain": [
       "False    391161\n",
       "True      44000\n",
       "Name: want, dtype: int64"
      ]
     },
     "execution_count": 23,
     "metadata": {},
     "output_type": "execute_result"
    }
   ],
   "source": [
    "DataScience.want.value_counts()                     # let's check our target column."
   ]
  },
  {
   "cell_type": "code",
   "execution_count": 24,
   "metadata": {},
   "outputs": [
    {
     "name": "stdout",
     "output_type": "stream",
     "text": [
      "0.10111200222446405\n"
     ]
    }
   ],
   "source": [
    "print ( 44000/(391161+44000))                       # 10.11% vs 89.88%"
   ]
  },
  {
   "cell_type": "code",
   "execution_count": 25,
   "metadata": {},
   "outputs": [
    {
     "data": {
      "image/png": "[encoded data removed]",
      "text/plain": [
       "<Figure size 432x288 with 1 Axes>"
      ]
     },
     "metadata": {},
     "output_type": "display_data"
    }
   ],
   "source": [
    "DataScience.want.value_counts().plot.bar()          #visuzlize the imbalance\n",
    "plt.ylabel('Number of Samples')\n",
    "plt.title('Our DataSet is imbalance')\n",
    "plt.show()"
   ]
  },
  {
   "cell_type": "code",
   "execution_count": 26,
   "metadata": {},
   "outputs": [
    {
     "data": {
      "text/plain": [
       "<matplotlib.axes._subplots.AxesSubplot at 0x1bc4ecf3048>"
      ]
     },
     "execution_count": 26,
     "metadata": {},
     "output_type": "execute_result"
    },
    {
     "data": {
      "image/png": "[encoded data removed]",
      "text/plain": [
       "<Figure size 432x288 with 1 Axes>"
      ]
     },
     "metadata": {},
     "output_type": "display_data"
    }
   ],
   "source": [
    "DataScience.bband_m15.value_counts().sort_index().plot()                ## does this tell me something? \n",
    "                                                                       # 417 times bband_m15 0s found?"
   ]
  },
  {
   "cell_type": "code",
   "execution_count": 27,
   "metadata": {},
   "outputs": [
    {
     "data": {
      "image/png": "[encoded data removed]",
      "text/plain": [
       "<Figure size 432x288 with 2 Axes>"
      ]
     },
     "metadata": {},
     "output_type": "display_data"
    }
   ],
   "source": [
    "DataScience.hist(column='stoch_m15', by='want', sharey=True, sharex=True, layout=(1, 2))\n",
    "plt.style.use('classic')"
   ]
  },
  {
   "cell_type": "code",
   "execution_count": 28,
   "metadata": {},
   "outputs": [
    {
     "data": {
      "text/plain": [
       "<seaborn.axisgrid.FacetGrid at 0x1bc4ece2b70>"
      ]
     },
     "execution_count": 28,
     "metadata": {},
     "output_type": "execute_result"
    },
    {
     "data": {
      "image/png": "[encoded data removed]",
      "text/plain": [
       "<Figure size 600x400 with 1 Axes>"
      ]
     },
     "metadata": {},
     "output_type": "display_data"
    }
   ],
   "source": [
    "sns.lmplot(x='stoch_m15', y='want', data=DataScience, aspect=1.5, scatter_kws={'alpha':0.2})"
   ]
  },
  {
   "cell_type": "code",
   "execution_count": 29,
   "metadata": {},
   "outputs": [
    {
     "data": {
      "text/plain": [
       "<matplotlib.axes._subplots.AxesSubplot at 0x1bc590f9d68>"
      ]
     },
     "execution_count": 29,
     "metadata": {},
     "output_type": "execute_result"
    },
    {
     "data": {
      "image/png": "[encoded data removed]",
      "text/plain": [
       "<Figure size 640x480 with 2 Axes>"
      ]
     },
     "metadata": {},
     "output_type": "display_data"
    }
   ],
   "source": [
    "sns.heatmap(DataScience.corr())"
   ]
  },
  {
   "cell_type": "code",
   "execution_count": null,
   "metadata": {},
   "outputs": [],
   "source": []
  }
 ],
 "metadata": {
  "kernelspec": {
   "display_name": "Python 3",
   "language": "python",
   "name": "python3"
  },
  "language_info": {
   "codemirror_mode": {
    "name": "ipython",
    "version": 3
   },
   "file_extension": ".py",
   "mimetype": "text/x-python",
   "name": "python",
   "nbconvert_exporter": "python",
   "pygments_lexer": "ipython3",
   "version": "3.6.5"
  }
 },
 "nbformat": 4,
 "nbformat_minor": 2
}
