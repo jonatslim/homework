{
 "cells": [
  {
   "cell_type": "markdown",
   "metadata": {},
   "source": [
    "# Business Problem: \n",
    "\n",
    "Learn a buy signal from an already existing trading rule.\n",
    "\n",
    "The current trading has a problem. The rule has more loses than wins. This is because the trading rules is set by if-else-then logic and these logic are very rigid. To understand this better, image a piece of cheese. of course,we only want the meat. The holes are analogy for failed trades while the meat represents the successfull trades. In this situation, we want our cheese to have at least 2/3 meat with maximum 1/3 holes.\n",
    "\n",
    "We aim to capture a subset of the trading rule, whose logic is not based on static if-then-else statements but wit hMachine Learning.\n",
    "\n",
    "![NN](cheese.jpg)\n",
    "\n",
    "\n",
    "This is the current strategy is like this cheese. Got more holes that meat. \n",
    "\n",
    "\n",
    "\n",
    "## Feature Engineering:\n",
    "All information from Foreign-Exchange providers are the same - the OHLC.\n",
    " - O -  open price for the period\n",
    " - H -  high price for the period\n",
    " - L -   low price for the period\n",
    " - C - close price for the period\n",
    "\n",
    "These are the basic buildling blocks of our Fields. Unfortunately, we can't use these in their raw form. we need to mix and combine them - on certain relevant ways - that can help our Machine Learning Algorithm to create a rule. The following concepts are high introductions that we will use to Feature Engineer our fields ( columns )  \n",
    "\n",
    "### Period\n",
    "Each row of data (OHLC) is time-bound by a period. Period could be M1, M5, M15, H1, H4, D1, W or M. We will use the following for our dataset. \n",
    " - M15 or 15-minute\n",
    " - H1 or 1-Hour period\n",
    " - H4 or 4-Hour period\n",
    "\n",
    "### Stochastic Oscillator Formula\n",
    "\n",
    "> %K = 100(C - L14)/(H14 - L14)\n",
    ">\n",
    "> Where:\n",
    "> - C = the most recent closing price\n",
    "> - L14 = the low of the 14 previous trading sessions\n",
    "> - H14 = the highest price traded during the same 14-day period\n",
    "> - %K= the current market rate for the currency pair\n",
    "> - %D = 3-period moving average of %K\n",
    "\n",
    "Read more: Stochastic Oscillator https://www.investopedia.com/terms/s/stochasticoscillator.asp#ixzz5S0c7KDgw \n",
    "\n",
    "### Bollinger Band\n",
    "> A Bollinger Band is a set of lines plotted two standard deviations (positively and negatively) away from a simple moving average of the security's price. A Bollinger Band, developed by famous technical trader John Bollinger, is normally plotted two standard deviations away from a simple moving average but can be adjusted to user preferences.\n",
    "\n",
    "Read more: Bollinger Band https://www.investopedia.com/terms/b/bollingerbands.asp#ixzz5S0efY97S \n",
    "\n",
    "\n",
    "### Fields / Columns\n",
    "Our field will be Stochastic Osccillator detect momentum strength and Bollinger Band to detect direction at m15, h1 and h4. The idea is to capture the direction and strength of movement using these 2 indicators.\n",
    "\n",
    "### Other Trading-related matters\n",
    "\n",
    "This data is for EURUSD, which means the data is sensitive to European Euro and American Dollar. From trading class, EURUSD is sensitive to 3 news events: US NFP (Non-Farm Payroll) Report and ECB (European Central Bank) Interest Rate Decision and FOMC (Federal Open Market Committee) Interest Rate Decision. These 3 events are scheduled through-out the year with different intervals. ( NFP are release every 1st friday of the month while FOMC and ECB Interest Rate adjustment happens 8 times in a year). \n",
    "\n",
    "We include the Week number to factor in this information. We expect Week number to factor in the change in direction for mid-term to long term. Month / Day and Hour are to factor in the changes in the short - mid term. \n",
    "\n",
    "### Want column\n",
    "This column is where some trading-related concepts is applied. A trade that is profitable with the proper Risk and Reward Ratio is the type of trades we want.  \n",
    "\n",
    "![want](want_sample.jpg)\n",
    "\n",
    "Sample of trades that are \"True\" "
   ]
  },
  {
   "cell_type": "markdown",
   "metadata": {},
   "source": [
    "## Exploratory Data Analysis"
   ]
  },
  {
   "cell_type": "code",
   "execution_count": 43,
   "metadata": {},
   "outputs": [
    {
     "data": {
      "text/html": [
       "<div>\n",
       "<style scoped>\n",
       "    .dataframe tbody tr th:only-of-type {\n",
       "        vertical-align: middle;\n",
       "    }\n",
       "\n",
       "    .dataframe tbody tr th {\n",
       "        vertical-align: top;\n",
       "    }\n",
       "\n",
       "    .dataframe thead th {\n",
       "        text-align: right;\n",
       "    }\n",
       "</style>\n",
       "<table border=\"1\" class=\"dataframe\">\n",
       "  <thead>\n",
       "    <tr style=\"text-align: right;\">\n",
       "      <th></th>\n",
       "      <th>week</th>\n",
       "      <th>month</th>\n",
       "      <th>day</th>\n",
       "      <th>hour</th>\n",
       "      <th>stoch_m15</th>\n",
       "      <th>stoch_h1</th>\n",
       "      <th>stoch_h4</th>\n",
       "      <th>bband_m15</th>\n",
       "      <th>bband_h1</th>\n",
       "      <th>bband_h4</th>\n",
       "      <th>want</th>\n",
       "    </tr>\n",
       "  </thead>\n",
       "  <tbody>\n",
       "    <tr>\n",
       "      <th>0</th>\n",
       "      <td>1</td>\n",
       "      <td>1</td>\n",
       "      <td>1</td>\n",
       "      <td>0</td>\n",
       "      <td>66.67</td>\n",
       "      <td>100.00</td>\n",
       "      <td>100.00</td>\n",
       "      <td>65.21</td>\n",
       "      <td>82.41</td>\n",
       "      <td>159.61</td>\n",
       "      <td>False</td>\n",
       "    </tr>\n",
       "    <tr>\n",
       "      <th>1</th>\n",
       "      <td>1</td>\n",
       "      <td>1</td>\n",
       "      <td>1</td>\n",
       "      <td>0</td>\n",
       "      <td>81.48</td>\n",
       "      <td>100.00</td>\n",
       "      <td>100.00</td>\n",
       "      <td>49.24</td>\n",
       "      <td>82.41</td>\n",
       "      <td>159.61</td>\n",
       "      <td>False</td>\n",
       "    </tr>\n",
       "    <tr>\n",
       "      <th>2</th>\n",
       "      <td>1</td>\n",
       "      <td>1</td>\n",
       "      <td>1</td>\n",
       "      <td>8</td>\n",
       "      <td>60.00</td>\n",
       "      <td>91.11</td>\n",
       "      <td>97.90</td>\n",
       "      <td>32.81</td>\n",
       "      <td>66.94</td>\n",
       "      <td>118.31</td>\n",
       "      <td>False</td>\n",
       "    </tr>\n",
       "    <tr>\n",
       "      <th>3</th>\n",
       "      <td>1</td>\n",
       "      <td>1</td>\n",
       "      <td>1</td>\n",
       "      <td>14</td>\n",
       "      <td>46.43</td>\n",
       "      <td>83.33</td>\n",
       "      <td>97.17</td>\n",
       "      <td>47.32</td>\n",
       "      <td>64.21</td>\n",
       "      <td>103.40</td>\n",
       "      <td>False</td>\n",
       "    </tr>\n",
       "    <tr>\n",
       "      <th>4</th>\n",
       "      <td>1</td>\n",
       "      <td>1</td>\n",
       "      <td>1</td>\n",
       "      <td>15</td>\n",
       "      <td>50.00</td>\n",
       "      <td>70.45</td>\n",
       "      <td>97.17</td>\n",
       "      <td>46.79</td>\n",
       "      <td>58.92</td>\n",
       "      <td>103.40</td>\n",
       "      <td>False</td>\n",
       "    </tr>\n",
       "  </tbody>\n",
       "</table>\n",
       "</div>"
      ],
      "text/plain": [
       "   week  month  day  hour  stoch_m15  stoch_h1  stoch_h4  bband_m15  bband_h1  \\\n",
       "0     1      1    1     0      66.67    100.00    100.00      65.21     82.41   \n",
       "1     1      1    1     0      81.48    100.00    100.00      49.24     82.41   \n",
       "2     1      1    1     8      60.00     91.11     97.90      32.81     66.94   \n",
       "3     1      1    1    14      46.43     83.33     97.17      47.32     64.21   \n",
       "4     1      1    1    15      50.00     70.45     97.17      46.79     58.92   \n",
       "\n",
       "   bband_h4   want  \n",
       "0    159.61  False  \n",
       "1    159.61  False  \n",
       "2    118.31  False  \n",
       "3    103.40  False  \n",
       "4    103.40  False  "
      ]
     },
     "execution_count": 43,
     "metadata": {},
     "output_type": "execute_result"
    }
   ],
   "source": [
    "import pandas as pd                           # load pandas, numpy, seaborn and matplotlib for this project.\n",
    "import numpy as np\n",
    "import seaborn as sns\n",
    "import matplotlib.pyplot as plt\n",
    "%matplotlib inline\n",
    "\n",
    "DataScience = pd.read_csv('DataScience.csv')   # Read the data from the file.\n",
    "DataScience.head()                             # see the headers of the data"
   ]
  },
  {
   "cell_type": "code",
   "execution_count": 44,
   "metadata": {},
   "outputs": [
    {
     "data": {
      "text/plain": [
       "(435213, 11)"
      ]
     },
     "execution_count": 44,
     "metadata": {},
     "output_type": "execute_result"
    }
   ],
   "source": [
    "DataScience.shape"
   ]
  },
  {
   "cell_type": "code",
   "execution_count": 45,
   "metadata": {},
   "outputs": [
    {
     "data": {
      "text/plain": [
       "0"
      ]
     },
     "execution_count": 45,
     "metadata": {},
     "output_type": "execute_result"
    }
   ],
   "source": [
    "DataScience.columns.isnull().sum()                 # locate null points in all columns. None Seen."
   ]
  },
  {
   "cell_type": "code",
   "execution_count": 46,
   "metadata": {},
   "outputs": [
    {
     "name": "stdout",
     "output_type": "stream",
     "text": [
      "<class 'pandas.core.frame.DataFrame'>\n",
      "RangeIndex: 435213 entries, 0 to 435212\n",
      "Data columns (total 11 columns):\n",
      "week         435213 non-null int64\n",
      "month        435213 non-null int64\n",
      "day          435213 non-null int64\n",
      "hour         435213 non-null int64\n",
      "stoch_m15    435213 non-null float64\n",
      "stoch_h1     435213 non-null float64\n",
      "stoch_h4     435213 non-null float64\n",
      "bband_m15    435213 non-null float64\n",
      "bband_h1     435213 non-null float64\n",
      "bband_h4     435213 non-null float64\n",
      "want         435213 non-null bool\n",
      "dtypes: bool(1), float64(6), int64(4)\n",
      "memory usage: 33.6 MB\n"
     ]
    }
   ],
   "source": [
    "DataScience.info()\n",
    "# below is how the columns are suppose to be.\n",
    "#week       // week number                            1 to 53\n",
    "#month      // month number                           1 to 12\n",
    "#hour       // hour of day                            0 to 23\n",
    "#day        // day of the week                        0 to 5 - Monday to Friday.\n",
    "#stoch_m15  // stochastic value at the m15 - 5,3,3    0 - 100\n",
    "#stoch_h1   // stochastic value at the h1 - 5,3,3     0 - 100\n",
    "#stoch_h4   // stochastic value at the h4 - 5,3,3     0 - 100\n",
    "#bband_m15  // m15 bollinger band (20,0,2) value      0 - 150%?\n",
    "#bband_h1   // h1  bollinger band (20,0,2) value      0 - 150%?\n",
    "#bband_h4   // h4  bollinger band (20,0,2) value      0 - 150%?\n",
    "#want       // target field for ML                    True / False\n",
    "\n",
    "# Expected dytpes are correctly loaded."
   ]
  },
  {
   "cell_type": "code",
   "execution_count": 47,
   "metadata": {
    "scrolled": true
   },
   "outputs": [
    {
     "data": {
      "text/html": [
       "<div>\n",
       "<style scoped>\n",
       "    .dataframe tbody tr th:only-of-type {\n",
       "        vertical-align: middle;\n",
       "    }\n",
       "\n",
       "    .dataframe tbody tr th {\n",
       "        vertical-align: top;\n",
       "    }\n",
       "\n",
       "    .dataframe thead th {\n",
       "        text-align: right;\n",
       "    }\n",
       "</style>\n",
       "<table border=\"1\" class=\"dataframe\">\n",
       "  <thead>\n",
       "    <tr style=\"text-align: right;\">\n",
       "      <th></th>\n",
       "      <th>week</th>\n",
       "      <th>month</th>\n",
       "      <th>day</th>\n",
       "      <th>hour</th>\n",
       "      <th>stoch_m15</th>\n",
       "      <th>stoch_h1</th>\n",
       "      <th>stoch_h4</th>\n",
       "      <th>bband_m15</th>\n",
       "      <th>bband_h1</th>\n",
       "      <th>bband_h4</th>\n",
       "      <th>want</th>\n",
       "    </tr>\n",
       "  </thead>\n",
       "  <tbody>\n",
       "    <tr>\n",
       "      <th>count</th>\n",
       "      <td>435213.00000</td>\n",
       "      <td>435213.000000</td>\n",
       "      <td>435213.000000</td>\n",
       "      <td>435213.000000</td>\n",
       "      <td>435213.000000</td>\n",
       "      <td>435213.000000</td>\n",
       "      <td>435213.000000</td>\n",
       "      <td>435213.000000</td>\n",
       "      <td>435213.000000</td>\n",
       "      <td>435213.000000</td>\n",
       "      <td>435213</td>\n",
       "    </tr>\n",
       "    <tr>\n",
       "      <th>unique</th>\n",
       "      <td>NaN</td>\n",
       "      <td>NaN</td>\n",
       "      <td>NaN</td>\n",
       "      <td>NaN</td>\n",
       "      <td>NaN</td>\n",
       "      <td>NaN</td>\n",
       "      <td>NaN</td>\n",
       "      <td>NaN</td>\n",
       "      <td>NaN</td>\n",
       "      <td>NaN</td>\n",
       "      <td>2</td>\n",
       "    </tr>\n",
       "    <tr>\n",
       "      <th>top</th>\n",
       "      <td>NaN</td>\n",
       "      <td>NaN</td>\n",
       "      <td>NaN</td>\n",
       "      <td>NaN</td>\n",
       "      <td>NaN</td>\n",
       "      <td>NaN</td>\n",
       "      <td>NaN</td>\n",
       "      <td>NaN</td>\n",
       "      <td>NaN</td>\n",
       "      <td>NaN</td>\n",
       "      <td>False</td>\n",
       "    </tr>\n",
       "    <tr>\n",
       "      <th>freq</th>\n",
       "      <td>NaN</td>\n",
       "      <td>NaN</td>\n",
       "      <td>NaN</td>\n",
       "      <td>NaN</td>\n",
       "      <td>NaN</td>\n",
       "      <td>NaN</td>\n",
       "      <td>NaN</td>\n",
       "      <td>NaN</td>\n",
       "      <td>NaN</td>\n",
       "      <td>NaN</td>\n",
       "      <td>391207</td>\n",
       "    </tr>\n",
       "    <tr>\n",
       "      <th>mean</th>\n",
       "      <td>26.48422</td>\n",
       "      <td>6.466195</td>\n",
       "      <td>2.990605</td>\n",
       "      <td>11.453674</td>\n",
       "      <td>50.234412</td>\n",
       "      <td>50.378678</td>\n",
       "      <td>50.790941</td>\n",
       "      <td>55.705812</td>\n",
       "      <td>57.714467</td>\n",
       "      <td>57.422285</td>\n",
       "      <td>NaN</td>\n",
       "    </tr>\n",
       "    <tr>\n",
       "      <th>std</th>\n",
       "      <td>14.94437</td>\n",
       "      <td>3.424949</td>\n",
       "      <td>1.410580</td>\n",
       "      <td>6.893196</td>\n",
       "      <td>33.392176</td>\n",
       "      <td>33.857653</td>\n",
       "      <td>35.178644</td>\n",
       "      <td>36.885891</td>\n",
       "      <td>37.377573</td>\n",
       "      <td>35.085463</td>\n",
       "      <td>NaN</td>\n",
       "    </tr>\n",
       "    <tr>\n",
       "      <th>min</th>\n",
       "      <td>1.00000</td>\n",
       "      <td>1.000000</td>\n",
       "      <td>1.000000</td>\n",
       "      <td>0.000000</td>\n",
       "      <td>0.000000</td>\n",
       "      <td>0.000000</td>\n",
       "      <td>0.000000</td>\n",
       "      <td>0.000000</td>\n",
       "      <td>0.000000</td>\n",
       "      <td>0.000000</td>\n",
       "      <td>NaN</td>\n",
       "    </tr>\n",
       "    <tr>\n",
       "      <th>25%</th>\n",
       "      <td>13.00000</td>\n",
       "      <td>3.000000</td>\n",
       "      <td>2.000000</td>\n",
       "      <td>5.000000</td>\n",
       "      <td>18.750000</td>\n",
       "      <td>18.000000</td>\n",
       "      <td>16.020000</td>\n",
       "      <td>26.540000</td>\n",
       "      <td>28.940000</td>\n",
       "      <td>29.460000</td>\n",
       "      <td>NaN</td>\n",
       "    </tr>\n",
       "    <tr>\n",
       "      <th>50%</th>\n",
       "      <td>26.00000</td>\n",
       "      <td>6.000000</td>\n",
       "      <td>3.000000</td>\n",
       "      <td>11.000000</td>\n",
       "      <td>50.000000</td>\n",
       "      <td>50.480000</td>\n",
       "      <td>51.820000</td>\n",
       "      <td>50.850000</td>\n",
       "      <td>52.770000</td>\n",
       "      <td>54.760000</td>\n",
       "      <td>NaN</td>\n",
       "    </tr>\n",
       "    <tr>\n",
       "      <th>75%</th>\n",
       "      <td>39.00000</td>\n",
       "      <td>9.000000</td>\n",
       "      <td>4.000000</td>\n",
       "      <td>17.000000</td>\n",
       "      <td>81.820000</td>\n",
       "      <td>82.720000</td>\n",
       "      <td>85.460000</td>\n",
       "      <td>78.700000</td>\n",
       "      <td>80.480000</td>\n",
       "      <td>81.100000</td>\n",
       "      <td>NaN</td>\n",
       "    </tr>\n",
       "    <tr>\n",
       "      <th>max</th>\n",
       "      <td>53.00000</td>\n",
       "      <td>12.000000</td>\n",
       "      <td>5.000000</td>\n",
       "      <td>23.000000</td>\n",
       "      <td>100.000000</td>\n",
       "      <td>100.000000</td>\n",
       "      <td>100.000000</td>\n",
       "      <td>217.480000</td>\n",
       "      <td>215.280000</td>\n",
       "      <td>205.130000</td>\n",
       "      <td>NaN</td>\n",
       "    </tr>\n",
       "  </tbody>\n",
       "</table>\n",
       "</div>"
      ],
      "text/plain": [
       "                week          month            day           hour  \\\n",
       "count   435213.00000  435213.000000  435213.000000  435213.000000   \n",
       "unique           NaN            NaN            NaN            NaN   \n",
       "top              NaN            NaN            NaN            NaN   \n",
       "freq             NaN            NaN            NaN            NaN   \n",
       "mean        26.48422       6.466195       2.990605      11.453674   \n",
       "std         14.94437       3.424949       1.410580       6.893196   \n",
       "min          1.00000       1.000000       1.000000       0.000000   \n",
       "25%         13.00000       3.000000       2.000000       5.000000   \n",
       "50%         26.00000       6.000000       3.000000      11.000000   \n",
       "75%         39.00000       9.000000       4.000000      17.000000   \n",
       "max         53.00000      12.000000       5.000000      23.000000   \n",
       "\n",
       "            stoch_m15       stoch_h1       stoch_h4      bband_m15  \\\n",
       "count   435213.000000  435213.000000  435213.000000  435213.000000   \n",
       "unique            NaN            NaN            NaN            NaN   \n",
       "top               NaN            NaN            NaN            NaN   \n",
       "freq              NaN            NaN            NaN            NaN   \n",
       "mean        50.234412      50.378678      50.790941      55.705812   \n",
       "std         33.392176      33.857653      35.178644      36.885891   \n",
       "min          0.000000       0.000000       0.000000       0.000000   \n",
       "25%         18.750000      18.000000      16.020000      26.540000   \n",
       "50%         50.000000      50.480000      51.820000      50.850000   \n",
       "75%         81.820000      82.720000      85.460000      78.700000   \n",
       "max        100.000000     100.000000     100.000000     217.480000   \n",
       "\n",
       "             bband_h1       bband_h4    want  \n",
       "count   435213.000000  435213.000000  435213  \n",
       "unique            NaN            NaN       2  \n",
       "top               NaN            NaN   False  \n",
       "freq              NaN            NaN  391207  \n",
       "mean        57.714467      57.422285     NaN  \n",
       "std         37.377573      35.085463     NaN  \n",
       "min          0.000000       0.000000     NaN  \n",
       "25%         28.940000      29.460000     NaN  \n",
       "50%         52.770000      54.760000     NaN  \n",
       "75%         80.480000      81.100000     NaN  \n",
       "max        215.280000     205.130000     NaN  "
      ]
     },
     "execution_count": 47,
     "metadata": {},
     "output_type": "execute_result"
    }
   ],
   "source": [
    "DataScience.describe(include='all')             # let's check out our columns"
   ]
  },
  {
   "cell_type": "markdown",
   "metadata": {},
   "source": [
    "We very well konw there are only 52 weeks in a year. Epcoh week number however, got 53 on certains years. Research will show year 2015 as an exmaple with week 53. The data is correct. "
   ]
  },
  {
   "cell_type": "markdown",
   "metadata": {},
   "source": [
    " Note to the Business Question: Singapore is @ +8GMT while the Broker where this information came from is @ +5GMT."
   ]
  },
  {
   "cell_type": "markdown",
   "metadata": {},
   "source": [
    "  Broker closes at Friday 2359 (+5GMT) which is Singapore Sat 0259 (+8GMT)"
   ]
  },
  {
   "cell_type": "markdown",
   "metadata": {},
   "source": [
    " Broker Opens at Monday 0001 (+5GMT) which is Singapore Monday 0300 (+8 GMT)"
   ]
  },
  {
   "cell_type": "markdown",
   "metadata": {},
   "source": [
    " These opening and closing information confirms that day should only be 1 - 5, which is correct."
   ]
  },
  {
   "cell_type": "code",
   "execution_count": 48,
   "metadata": {},
   "outputs": [
    {
     "name": "stdout",
     "output_type": "stream",
     "text": [
      "        week  month  day  hour  stoch_m15  stoch_h1  stoch_h4  bband_m15  \\\n",
      "4114       9      3    4    23      87.50     47.76    100.00       8.02   \n",
      "4115       9      3    4    23      87.50     47.76    100.00       8.02   \n",
      "8678      19      5    2    14       0.00     46.00      0.00      55.07   \n",
      "8679      19      5    2    14       0.00     46.00      0.00      55.07   \n",
      "11228     24      6    4     4     100.00     48.28     51.69      48.04   \n",
      "11229     24      6    4     4     100.00     48.28     51.69      48.04   \n",
      "11230     24      6    4     5     100.00     51.61     51.69      58.59   \n",
      "11231     24      6    4     5     100.00     51.61     51.69      58.59   \n",
      "13920     30      7    2     6       0.00     75.00     60.38      24.79   \n",
      "13921     30      7    2     6       0.00     75.00     60.38      24.79   \n",
      "14101     30      7    4     3     100.00     18.18    100.00       6.39   \n",
      "14102     30      7    4     3     100.00     18.18    100.00       6.39   \n",
      "17384     37      9    3    10       0.00     32.50     78.82     121.95   \n",
      "17385     37      9    3    10       0.00     32.50     78.82     121.95   \n",
      "32481     17      4    2     1       0.00     71.43     18.37      79.14   \n",
      "32482     17      4    2     1       0.00     71.43     18.37      79.14   \n",
      "35152     22      5    4    21       0.00     85.90    100.00      44.47   \n",
      "35153     22      5    4    21       0.00     85.90    100.00      44.47   \n",
      "41429     35      8    5    11     100.00     28.57     25.00      47.45   \n",
      "41430     35      8    5    11     100.00     28.57     25.00      47.45   \n",
      "48056     49     12    4    16     100.00     38.96     16.44       9.42   \n",
      "48057     49     12    4    16     100.00     38.96     16.44       9.42   \n",
      "48080     49     12    4    22     100.00     62.50     20.37      61.31   \n",
      "48081     49     12    4    22     100.00     62.50     20.37      61.31   \n",
      "57794     18      4    2     5     100.00     75.00      0.00     103.80   \n",
      "57795     18      4    2     5     100.00     75.00      0.00     103.80   \n",
      "62593     28      7    2     6      91.67     65.31      0.00      39.50   \n",
      "62594     28      7    2     6      91.67     65.31      0.00      39.50   \n",
      "63966     30      7    1    13       0.00     38.41      1.75      65.28   \n",
      "63967     30      7    1    13       0.00     38.41      1.75      65.28   \n",
      "...      ...    ...  ...   ...        ...       ...       ...        ...   \n",
      "155311    13      3    2     8       0.00     68.18     86.02      67.57   \n",
      "155312    13      3    2     8       0.00     68.18     86.02      67.57   \n",
      "156665    16      4    1    14       0.00     68.00     78.79      53.58   \n",
      "156666    16      4    1    14       0.00     68.00     78.79      53.58   \n",
      "158249    19      5    3     5     100.00     81.25      3.65      86.66   \n",
      "158250    19      5    3     5     100.00     81.25      3.65      86.66   \n",
      "160622    24      6    3     4     100.00     35.29      9.46      36.70   \n",
      "160623    24      6    3     4     100.00     35.29      9.46      36.70   \n",
      "162707    28      7    5     1       0.00     77.78     79.81      13.70   \n",
      "162708    28      7    5     1       0.00     77.78     79.81      13.70   \n",
      "165738    35      8    1    22       5.56     58.62      0.00      63.91   \n",
      "165739    35      8    1    22       5.56     58.62      0.00      63.91   \n",
      "166520    36      9    5     3       0.00     50.00    100.00      81.12   \n",
      "166521    36      9    5     3       0.00     50.00    100.00      81.12   \n",
      "168436    40     10    5     7       0.00     66.67     99.39      30.19   \n",
      "168437    40     10    5     7       0.00     66.67     99.39      30.19   \n",
      "174083    53     12    1     7     100.00     91.67    100.00      29.19   \n",
      "174084    53     12    1     7     100.00     91.67    100.00      29.19   \n",
      "179574    12      3    5    14     100.00     27.64     34.44      44.60   \n",
      "179575    12      3    5    14     100.00     27.64     34.44      44.60   \n",
      "183947    22      5    1    15     100.00     48.65     44.23      85.63   \n",
      "183948    22      5    1    15     100.00     48.65     44.23      85.63   \n",
      "222920    52     12    4     8     100.00     56.28     92.60     112.91   \n",
      "222921    52     12    4     8     100.00     56.28     92.60     112.91   \n",
      "230396    16      4    5    13       0.00     49.06     19.49      51.77   \n",
      "230397    16      4    5    13       0.00     49.06     19.49      51.77   \n",
      "323766     4      1    1    20       0.00     86.59     21.44       4.83   \n",
      "323767     4      1    1    20       0.00     86.59     21.44       4.83   \n",
      "343398    46     11    3     7     100.00     80.69     86.23     133.05   \n",
      "343399    46     11    3     7     100.00     80.69     86.23     133.05   \n",
      "\n",
      "        bband_h1  bband_h4   want  \n",
      "4114       42.82     97.21  False  \n",
      "4115       42.82     97.21  False  \n",
      "8678       84.24     95.39  False  \n",
      "8679       84.24     95.39  False  \n",
      "11228      31.34     59.20  False  \n",
      "11229      31.34     59.20  False  \n",
      "11230      53.06     59.20  False  \n",
      "11231      53.06     59.20  False  \n",
      "13920      47.47     46.96   True  \n",
      "13921      47.47     46.96   True  \n",
      "14101      38.29    101.30  False  \n",
      "14102      38.29    101.30  False  \n",
      "17384      42.30     93.80  False  \n",
      "17385      42.30     93.80  False  \n",
      "32481      15.95     17.21  False  \n",
      "32482      15.95     17.21  False  \n",
      "35152      82.49     82.55  False  \n",
      "35153      82.49     82.55  False  \n",
      "41429      23.97     51.09  False  \n",
      "41430      23.97     51.09  False  \n",
      "48056      17.88     29.24  False  \n",
      "48057      17.88     29.24  False  \n",
      "48080      55.36     17.97  False  \n",
      "48081      55.36     17.97  False  \n",
      "57794      39.64     49.20  False  \n",
      "57795      39.64     49.20  False  \n",
      "62593      24.23     97.44  False  \n",
      "62594      24.23     97.44  False  \n",
      "63966      76.03     10.18  False  \n",
      "63967      76.03     10.18  False  \n",
      "...          ...       ...    ...  \n",
      "155311     21.39     13.62  False  \n",
      "155312     21.39     13.62  False  \n",
      "156665      3.14     70.81  False  \n",
      "156666      3.14     70.81  False  \n",
      "158249      4.46     71.15  False  \n",
      "158250      4.46     71.15  False  \n",
      "160622     51.49     79.90  False  \n",
      "160623     51.49     79.90  False  \n",
      "162707     28.60     53.21  False  \n",
      "162708     28.60     53.21  False  \n",
      "165738     54.78     42.99  False  \n",
      "165739     54.78     42.99  False  \n",
      "166520     26.29     91.84  False  \n",
      "166521     26.29     91.84  False  \n",
      "168436     27.70     20.09  False  \n",
      "168437     27.70     20.09  False  \n",
      "174083     66.56     83.02  False  \n",
      "174084     66.56     83.02  False  \n",
      "179574     64.57     65.94  False  \n",
      "179575     64.57     65.94  False  \n",
      "183947     10.34      2.81  False  \n",
      "183948     10.34      2.81  False  \n",
      "222920     57.62     78.65  False  \n",
      "222921     57.62     78.65  False  \n",
      "230396     73.44     58.59  False  \n",
      "230397     73.44     58.59  False  \n",
      "323766     35.00     24.17  False  \n",
      "323767     35.00     24.17  False  \n",
      "343398     51.30     37.76  False  \n",
      "343399     51.30     37.76  False  \n",
      "\n",
      "[104 rows x 11 columns]\n"
     ]
    },
    {
     "data": {
      "text/plain": [
       "(104, 11)"
      ]
     },
     "execution_count": 48,
     "metadata": {},
     "output_type": "execute_result"
    }
   ],
   "source": [
    "mask = DataScience.duplicated(keep=False)          # create a mask for duplicated items\n",
    "print (DataScience[mask])                          # apply the mask over the Data Set and display it.\n",
    "DataScience[mask].shape                            # see the shape of the duplicated rows / samples"
   ]
  },
  {
   "cell_type": "code",
   "execution_count": 49,
   "metadata": {},
   "outputs": [
    {
     "data": {
      "text/plain": [
       "(435161, 11)"
      ]
     },
     "execution_count": 49,
     "metadata": {},
     "output_type": "execute_result"
    }
   ],
   "source": [
    "DataScience.drop_duplicates(inplace=True)           # 52 entries were duplicate. they were dropped.\n",
    "DataScience.shape                                   # final size is now 52 rows smaller."
   ]
  },
  {
   "cell_type": "markdown",
   "metadata": {},
   "source": [
    "We plot all the fields in a historgram so get a feel of what type of distribution the data has.."
   ]
  },
  {
   "cell_type": "code",
   "execution_count": 50,
   "metadata": {},
   "outputs": [
    {
     "data": {
      "text/plain": [
       "<Figure size 432x288 with 0 Axes>"
      ]
     },
     "execution_count": 50,
     "metadata": {},
     "output_type": "execute_result"
    },
    {
     "data": {
      "image/png": "[encoded data removed]",
      "text/plain": [
       "<Figure size 1800x1800 with 12 Axes>"
      ]
     },
     "metadata": {},
     "output_type": "display_data"
    },
    {
     "data": {
      "text/plain": [
       "<Figure size 432x288 with 0 Axes>"
      ]
     },
     "metadata": {},
     "output_type": "display_data"
    }
   ],
   "source": [
    "DataScience.hist(figsize=(25, 25))\n",
    "plt.figure()"
   ]
  },
  {
   "cell_type": "markdown",
   "metadata": {},
   "source": [
    "We can see that stoch_m15 has values mostly on the extreme ends (0 and 100). Chart is flashy but it doesn't tell us much."
   ]
  },
  {
   "cell_type": "markdown",
   "metadata": {},
   "source": [
    "Let's check our Target columns using describe. stoch_xx fields are as expected. \n",
    "We know for a fact that stoch_xx is a percentage value from 0-100. we can confirm from Min, Mean, 50%, Max that the scale is indeed from 0 - 100%."
   ]
  },
  {
   "cell_type": "code",
   "execution_count": 51,
   "metadata": {},
   "outputs": [
    {
     "data": {
      "text/plain": [
       "count    435161.000000\n",
       "mean         50.234094\n",
       "std          33.390028\n",
       "min           0.000000\n",
       "25%          18.750000\n",
       "50%          50.000000\n",
       "75%          81.820000\n",
       "max         100.000000\n",
       "Name: stoch_m15, dtype: float64"
      ]
     },
     "execution_count": 51,
     "metadata": {},
     "output_type": "execute_result"
    }
   ],
   "source": [
    "DataScience.stoch_m15.describe()                         # let's check our target column"
   ]
  },
  {
   "cell_type": "code",
   "execution_count": 52,
   "metadata": {},
   "outputs": [
    {
     "data": {
      "text/plain": [
       "<matplotlib.axes._subplots.AxesSubplot at 0x1d895a51da0>"
      ]
     },
     "execution_count": 52,
     "metadata": {},
     "output_type": "execute_result"
    },
    {
     "data": {
      "image/png": "[encoded data removed]",
      "text/plain": [
       "<Figure size 1080x576 with 1 Axes>"
      ]
     },
     "metadata": {},
     "output_type": "display_data"
    }
   ],
   "source": [
    "DataScience.drop('want', axis=1).plot(kind='box', figsize=(15, 8))  # We plot the feature columns"
   ]
  },
  {
   "cell_type": "markdown",
   "metadata": {},
   "source": [
    "All values range from 0 - 217. Those outliers are important on it's current setate. bband_m15 at 200+ means price is way, way, way outside the bband area of 2 sigma. These 'overstreching' is important for our target column."
   ]
  },
  {
   "cell_type": "markdown",
   "metadata": {},
   "source": [
    "## Data Munging\n",
    "\n"
   ]
  },
  {
   "cell_type": "code",
   "execution_count": 53,
   "metadata": {},
   "outputs": [
    {
     "data": {
      "text/plain": [
       "array([False,  True])"
      ]
     },
     "execution_count": 53,
     "metadata": {},
     "output_type": "execute_result"
    }
   ],
   "source": [
    "DataScience.want.unique()"
   ]
  },
  {
   "cell_type": "markdown",
   "metadata": {},
   "source": [
    "Problem #1: Our target column is in 'True' and 'False' mode. we need to change those to 0s and 1s."
   ]
  },
  {
   "cell_type": "code",
   "execution_count": 54,
   "metadata": {},
   "outputs": [
    {
     "data": {
      "image/png": "[encoded data removed]",
      "text/plain": [
       "<Figure size 432x288 with 1 Axes>"
      ]
     },
     "metadata": {},
     "output_type": "display_data"
    }
   ],
   "source": [
    "DataScience.want.value_counts().plot.bar()          #visuzlize the imbalance\n",
    "plt.ylabel('Number of Samples')\n",
    "plt.title('Our DataSet has very bad imbalance')\n",
    "plt.show()"
   ]
  },
  {
   "cell_type": "code",
   "execution_count": 55,
   "metadata": {},
   "outputs": [
    {
     "name": "stdout",
     "output_type": "stream",
     "text": [
      "False    391161\n",
      "True      44000\n",
      "Name: want, dtype: int64 \n",
      "\n",
      "False: 89.8887997775536   percent \n",
      "True : 10.111200222446405  percent\n"
     ]
    }
   ],
   "source": [
    "print (DataScience.want.value_counts() ,'\\n')\n",
    "\n",
    "count_of_False = 0\n",
    "count_of_True  = 0\n",
    "\n",
    "for i in DataScience.want:\n",
    "    if i == 0:\n",
    "        count_of_False += 1\n",
    "    else:\n",
    "        count_of_True += 1\n",
    "\n",
    "print( \"False: \" + str(count_of_False/(count_of_False+count_of_True)*100) + \"   percent \\n\" + \n",
    "       \"True : \" + str(count_of_True/(count_of_False+count_of_True)*100), ' percent')"
   ]
  },
  {
   "cell_type": "markdown",
   "metadata": {},
   "source": [
    "Problem #2: Our target is also heaviy imbalanced. we need to correct this imbalance."
   ]
  },
  {
   "cell_type": "code",
   "execution_count": 56,
   "metadata": {},
   "outputs": [],
   "source": [
    "# change the want column to 0's and 1's\n",
    "\n",
    "#split the want to 'true' and 'false'. save series in want_n\n",
    "want_n = pd.get_dummies(DataScience.want)\n",
    "#print (want_n)\n",
    "\n",
    "# concat want_n to the dataset\n",
    "DataScience = pd.concat([DataScience,want_n], axis =1 )"
   ]
  },
  {
   "cell_type": "code",
   "execution_count": 57,
   "metadata": {},
   "outputs": [
    {
     "data": {
      "text/html": [
       "<div>\n",
       "<style scoped>\n",
       "    .dataframe tbody tr th:only-of-type {\n",
       "        vertical-align: middle;\n",
       "    }\n",
       "\n",
       "    .dataframe tbody tr th {\n",
       "        vertical-align: top;\n",
       "    }\n",
       "\n",
       "    .dataframe thead th {\n",
       "        text-align: right;\n",
       "    }\n",
       "</style>\n",
       "<table border=\"1\" class=\"dataframe\">\n",
       "  <thead>\n",
       "    <tr style=\"text-align: right;\">\n",
       "      <th></th>\n",
       "      <th>week</th>\n",
       "      <th>month</th>\n",
       "      <th>day</th>\n",
       "      <th>hour</th>\n",
       "      <th>stoch_m15</th>\n",
       "      <th>stoch_h1</th>\n",
       "      <th>stoch_h4</th>\n",
       "      <th>bband_m15</th>\n",
       "      <th>bband_h1</th>\n",
       "      <th>bband_h4</th>\n",
       "      <th>want</th>\n",
       "      <th>False</th>\n",
       "      <th>True</th>\n",
       "    </tr>\n",
       "  </thead>\n",
       "  <tbody>\n",
       "    <tr>\n",
       "      <th>0</th>\n",
       "      <td>1</td>\n",
       "      <td>1</td>\n",
       "      <td>1</td>\n",
       "      <td>0</td>\n",
       "      <td>66.67</td>\n",
       "      <td>100.00</td>\n",
       "      <td>100.0</td>\n",
       "      <td>65.21</td>\n",
       "      <td>82.41</td>\n",
       "      <td>159.61</td>\n",
       "      <td>False</td>\n",
       "      <td>1</td>\n",
       "      <td>0</td>\n",
       "    </tr>\n",
       "    <tr>\n",
       "      <th>1</th>\n",
       "      <td>1</td>\n",
       "      <td>1</td>\n",
       "      <td>1</td>\n",
       "      <td>0</td>\n",
       "      <td>81.48</td>\n",
       "      <td>100.00</td>\n",
       "      <td>100.0</td>\n",
       "      <td>49.24</td>\n",
       "      <td>82.41</td>\n",
       "      <td>159.61</td>\n",
       "      <td>False</td>\n",
       "      <td>1</td>\n",
       "      <td>0</td>\n",
       "    </tr>\n",
       "    <tr>\n",
       "      <th>2</th>\n",
       "      <td>1</td>\n",
       "      <td>1</td>\n",
       "      <td>1</td>\n",
       "      <td>8</td>\n",
       "      <td>60.00</td>\n",
       "      <td>91.11</td>\n",
       "      <td>97.9</td>\n",
       "      <td>32.81</td>\n",
       "      <td>66.94</td>\n",
       "      <td>118.31</td>\n",
       "      <td>False</td>\n",
       "      <td>1</td>\n",
       "      <td>0</td>\n",
       "    </tr>\n",
       "  </tbody>\n",
       "</table>\n",
       "</div>"
      ],
      "text/plain": [
       "   week  month  day  hour  stoch_m15  stoch_h1  stoch_h4  bband_m15  bband_h1  \\\n",
       "0     1      1    1     0      66.67    100.00     100.0      65.21     82.41   \n",
       "1     1      1    1     0      81.48    100.00     100.0      49.24     82.41   \n",
       "2     1      1    1     8      60.00     91.11      97.9      32.81     66.94   \n",
       "\n",
       "   bband_h4   want  False  True  \n",
       "0    159.61  False      1     0  \n",
       "1    159.61  False      1     0  \n",
       "2    118.31  False      1     0  "
      ]
     },
     "execution_count": 57,
     "metadata": {},
     "output_type": "execute_result"
    }
   ],
   "source": [
    "DataScience.merge(want_n,left_index=True, right_index=True)\n",
    "DataScience.head(3)"
   ]
  },
  {
   "cell_type": "code",
   "execution_count": 58,
   "metadata": {},
   "outputs": [
    {
     "data": {
      "text/plain": [
       "Index([     'week',     'month',       'day',      'hour', 'stoch_m15',\n",
       "        'stoch_h1',  'stoch_h4', 'bband_m15',  'bband_h1',  'bband_h4',\n",
       "              True],\n",
       "      dtype='object')"
      ]
     },
     "execution_count": 58,
     "metadata": {},
     "output_type": "execute_result"
    }
   ],
   "source": [
    "DataScience.drop(columns=['want'], inplace = True)\n",
    "DataScience.drop(columns=[False], inplace = True)\n",
    "\n",
    "DataScience.columns.view()"
   ]
  },
  {
   "cell_type": "code",
   "execution_count": 59,
   "metadata": {},
   "outputs": [
    {
     "data": {
      "text/plain": [
       "Index(['week', 'month', 'day', 'hour', 'stoch_m15', 'stoch_h1', 'stoch_h4',\n",
       "       'bband_m15', 'bband_h1', 'bband_h4', 'want'],\n",
       "      dtype='object')"
      ]
     },
     "execution_count": 59,
     "metadata": {},
     "output_type": "execute_result"
    }
   ],
   "source": [
    "DataScience.rename(columns={True: 'want'}, inplace=True)\n",
    "DataScience.columns.view()"
   ]
  },
  {
   "cell_type": "code",
   "execution_count": 60,
   "metadata": {},
   "outputs": [
    {
     "data": {
      "text/html": [
       "<div>\n",
       "<style scoped>\n",
       "    .dataframe tbody tr th:only-of-type {\n",
       "        vertical-align: middle;\n",
       "    }\n",
       "\n",
       "    .dataframe tbody tr th {\n",
       "        vertical-align: top;\n",
       "    }\n",
       "\n",
       "    .dataframe thead th {\n",
       "        text-align: right;\n",
       "    }\n",
       "</style>\n",
       "<table border=\"1\" class=\"dataframe\">\n",
       "  <thead>\n",
       "    <tr style=\"text-align: right;\">\n",
       "      <th></th>\n",
       "      <th>week</th>\n",
       "      <th>month</th>\n",
       "      <th>day</th>\n",
       "      <th>hour</th>\n",
       "      <th>stoch_m15</th>\n",
       "      <th>stoch_h1</th>\n",
       "      <th>stoch_h4</th>\n",
       "      <th>bband_m15</th>\n",
       "      <th>bband_h1</th>\n",
       "      <th>bband_h4</th>\n",
       "      <th>want</th>\n",
       "    </tr>\n",
       "  </thead>\n",
       "  <tbody>\n",
       "    <tr>\n",
       "      <th>0</th>\n",
       "      <td>1</td>\n",
       "      <td>1</td>\n",
       "      <td>1</td>\n",
       "      <td>0</td>\n",
       "      <td>66.67</td>\n",
       "      <td>100.00</td>\n",
       "      <td>100.0</td>\n",
       "      <td>65.21</td>\n",
       "      <td>82.41</td>\n",
       "      <td>159.61</td>\n",
       "      <td>0</td>\n",
       "    </tr>\n",
       "    <tr>\n",
       "      <th>1</th>\n",
       "      <td>1</td>\n",
       "      <td>1</td>\n",
       "      <td>1</td>\n",
       "      <td>0</td>\n",
       "      <td>81.48</td>\n",
       "      <td>100.00</td>\n",
       "      <td>100.0</td>\n",
       "      <td>49.24</td>\n",
       "      <td>82.41</td>\n",
       "      <td>159.61</td>\n",
       "      <td>0</td>\n",
       "    </tr>\n",
       "    <tr>\n",
       "      <th>2</th>\n",
       "      <td>1</td>\n",
       "      <td>1</td>\n",
       "      <td>1</td>\n",
       "      <td>8</td>\n",
       "      <td>60.00</td>\n",
       "      <td>91.11</td>\n",
       "      <td>97.9</td>\n",
       "      <td>32.81</td>\n",
       "      <td>66.94</td>\n",
       "      <td>118.31</td>\n",
       "      <td>0</td>\n",
       "    </tr>\n",
       "  </tbody>\n",
       "</table>\n",
       "</div>"
      ],
      "text/plain": [
       "   week  month  day  hour  stoch_m15  stoch_h1  stoch_h4  bband_m15  bband_h1  \\\n",
       "0     1      1    1     0      66.67    100.00     100.0      65.21     82.41   \n",
       "1     1      1    1     0      81.48    100.00     100.0      49.24     82.41   \n",
       "2     1      1    1     8      60.00     91.11      97.9      32.81     66.94   \n",
       "\n",
       "   bband_h4  want  \n",
       "0    159.61     0  \n",
       "1    159.61     0  \n",
       "2    118.31     0  "
      ]
     },
     "execution_count": 60,
     "metadata": {},
     "output_type": "execute_result"
    }
   ],
   "source": [
    "DataScience.head(3)"
   ]
  },
  {
   "cell_type": "markdown",
   "metadata": {},
   "source": [
    "Problem #1 fixed! Target field are 0s and 1s!"
   ]
  },
  {
   "cell_type": "markdown",
   "metadata": {},
   "source": [
    "we will use SMOTE to increase the number of 1's in our target field."
   ]
  },
  {
   "cell_type": "code",
   "execution_count": 63,
   "metadata": {
    "scrolled": true
   },
   "outputs": [
    {
     "name": "stdout",
     "output_type": "stream",
     "text": [
      "before SMOTE: \n",
      "size of X =  (435161, 10) \n",
      "\n",
      "show the contents of X\n",
      "    week  month  day  hour  stoch_m15  stoch_h1  stoch_h4  bband_m15  bband_h1  \\\n",
      "0     1      1    1     0      66.67    100.00    100.00      65.21     82.41   \n",
      "1     1      1    1     0      81.48    100.00    100.00      49.24     82.41   \n",
      "2     1      1    1     8      60.00     91.11     97.90      32.81     66.94   \n",
      "3     1      1    1    14      46.43     83.33     97.17      47.32     64.21   \n",
      "4     1      1    1    15      50.00     70.45     97.17      46.79     58.92   \n",
      "\n",
      "   bband_h4  \n",
      "0    159.61  \n",
      "1    159.61  \n",
      "2    118.31  \n",
      "3    103.40  \n",
      "4    103.40   \n",
      "\n",
      "\n",
      "size of y =  (435161,) \n",
      "\n",
      "show the contents of y\n",
      " 0    0\n",
      "1    0\n",
      "2    0\n",
      "3    0\n",
      "4    0\n",
      "Name: want, dtype: uint8\n"
     ]
    }
   ],
   "source": [
    "from imblearn.over_sampling import SMOTE\n",
    "\n",
    "# Apply SMOTE + Tomek links\n",
    "sm = SMOTE()\n",
    "\n",
    "X = DataScience.drop(columns='want', axis =1)\n",
    "y = DataScience.want\n",
    "\n",
    "print ( 'before SMOTE: ')\n",
    "print ( 'size of X = ',X.shape, '\\n' )\n",
    "print ( 'show the contents of X\\n', X.head(5) ,'\\n\\n')\n",
    "\n",
    "print ( 'size of y = ',y.shape, '\\n' )\n",
    "print ( 'show the contents of y\\n', y.head(5) )\n",
    "\n",
    "#X_resampled, y_resampled = sm.fit_sample(X, y)"
   ]
  },
  {
   "cell_type": "code",
   "execution_count": 64,
   "metadata": {},
   "outputs": [],
   "source": [
    "X_resampled, y_resampled = sm.fit_sample(X, y)                # fit the smote"
   ]
  },
  {
   "cell_type": "code",
   "execution_count": 65,
   "metadata": {},
   "outputs": [
    {
     "name": "stdout",
     "output_type": "stream",
     "text": [
      "after SMOTE: \n",
      "size of X_resampled =  (782322, 10) \n",
      "\n",
      "show the contents of X_smt_back_df : \n",
      "    week  month  day  hour  stoch_m15  stoch_h1  stoch_h4  bband_m15  bband_h1  \\\n",
      "0   1.0    1.0  1.0   0.0      66.67    100.00    100.00      65.21     82.41   \n",
      "1   1.0    1.0  1.0   0.0      81.48    100.00    100.00      49.24     82.41   \n",
      "2   1.0    1.0  1.0   8.0      60.00     91.11     97.90      32.81     66.94   \n",
      "3   1.0    1.0  1.0  14.0      46.43     83.33     97.17      47.32     64.21   \n",
      "4   1.0    1.0  1.0  15.0      50.00     70.45     97.17      46.79     58.92   \n",
      "\n",
      "   bband_h4  \n",
      "0    159.61  \n",
      "1    159.61  \n",
      "2    118.31  \n",
      "3    103.40  \n",
      "4    103.40   \n",
      "\n",
      "\n",
      "show the contents of X_smt_back_df =  (782322, 10)\n"
     ]
    }
   ],
   "source": [
    "print ( 'after SMOTE: ')\n",
    "print ( 'size of X_resampled = ',X_resampled.shape, '\\n' )\n",
    "columns = ['week','month','day','hour','stoch_m15','stoch_h1','stoch_h4','bband_m15','bband_h1','bband_h4']\n",
    "df = pd.DataFrame(X_resampled,columns=columns)\n",
    "X_smt_back_df = df\n",
    "print ( 'show the contents of X_smt_back_df : \\n', X_smt_back_df.head(5) ,'\\n\\n')\n",
    "print ( 'show the contents of X_smt_back_df = ', X_smt_back_df.shape)"
   ]
  },
  {
   "cell_type": "code",
   "execution_count": 66,
   "metadata": {},
   "outputs": [
    {
     "name": "stdout",
     "output_type": "stream",
     "text": [
      "0: 391161\n",
      "1: 391161 \n",
      "\n",
      "size of y_resampled =  (782322,)\n"
     ]
    }
   ],
   "source": [
    "count0=0\n",
    "count1=0\n",
    "\n",
    "for i in y_resampled:\n",
    "    if i == 0:\n",
    "        count0 += 1\n",
    "    else:\n",
    "        count1 += 1\n",
    "\n",
    "print(\"0: \" + str(count0) + \"\\n\" + \"1: \" + str(count1),'\\n')\n",
    "\n",
    "print ( 'size of y_resampled = ',y_resampled.shape )"
   ]
  },
  {
   "cell_type": "markdown",
   "metadata": {},
   "source": [
    "Problem #2 fixed! data is not imbalance anymore"
   ]
  },
  {
   "cell_type": "markdown",
   "metadata": {},
   "source": [
    "## Make the Models"
   ]
  },
  {
   "cell_type": "code",
   "execution_count": 67,
   "metadata": {},
   "outputs": [],
   "source": [
    "#split the data into train / test first. \n",
    "\n",
    "from sklearn.model_selection import train_test_split\n",
    "X_train, X_test, y_train, y_test = train_test_split(X_smt_back_df ,y_resampled, random_state=111)"
   ]
  },
  {
   "cell_type": "code",
   "execution_count": 68,
   "metadata": {},
   "outputs": [
    {
     "name": "stdout",
     "output_type": "stream",
     "text": [
      "y_pred_RF shape : (195581,)\n",
      "y_pred_RF contents :  [0 1 1 ... 1 0 0]\n",
      " proba_RF contents :  [0.1 0.6 1.  ... 0.6 0.  0.3]\n",
      "\n",
      "\n",
      "y_pred_LR shape : (195581,)\n",
      "y_pred_LR contents :  [0 0 0 ... 1 0 0]\n",
      "  proba_LR contents :  [0.43900812 0.29037817 0.46982476 ... 0.55832254 0.42108581 0.35067111]\n",
      "\n",
      "\n",
      "y_pred_XGB shape : (195581,)\n",
      "y_pred_XGB contents :  [0 0 1 ... 0 0 0]\n",
      "proba_XGB contents :  [0.36250252 0.11276627 0.96865416 ... 0.4027412  0.18024734 0.18734673]\n",
      "\n",
      "\n",
      "y_pred_SGD shape : (195581,)\n",
      "y_pred_SGD contents :  [0 0 0 ... 1 0 0]\n",
      " proba_SGD contents :  [0.36447568 0.28211841 0.40791824 ... 0.5361078  0.35799297 0.3944249 ]\n"
     ]
    }
   ],
   "source": [
    "from sklearn.ensemble import RandomForestClassifier     # define the models to use\n",
    "RF_instance = RandomForestClassifier()                  # declare the instance\n",
    "RF = RF_instance.fit(X_train,y_train)                   # Fit the models.\n",
    "y_pred_RF = RF.predict(X_test)                          # predict the y\n",
    "proba_RF =   RF.predict_proba(X_test)                   # compute the probabilies..\n",
    "proba_RF = proba_RF[:,1]\n",
    "print ('y_pred_RF shape :' , y_pred_RF.shape)           #resulting y_pred_RF is a 1D numpy arrays of 0s and 1s. \n",
    "print ('y_pred_RF contents : ', y_pred_RF)\n",
    "print (' proba_RF contents : ', proba_RF)\n",
    "print ('\\n' )\n",
    "\n",
    "from sklearn.linear_model import LogisticRegressionCV   # USE Logistic Regeression here..\n",
    "LR_instance = LogisticRegressionCV()                    # declare the instance\n",
    "LR = LR_instance.fit(X_train,y_train)                   # Fit the models.\n",
    "y_pred_LR = LR.predict(X_test)                          # predict the y\n",
    "proba_LR =   LR.predict_proba(X_test)                   # compute the probabilies..\n",
    "proba_LR = proba_LR[:,1]\n",
    "print ('y_pred_LR shape :' , y_pred_LR.shape)           #resulting y_pred_LR is a 1D numpy arrays of 0s and 1s.\n",
    "print ('y_pred_LR contents : ', y_pred_LR)\n",
    "print ('  proba_LR contents : ', proba_LR)\n",
    "print ('\\n' )\n",
    "\n",
    "from xgboost import XGBRegressor                        # USE XGBoost here..\n",
    "XGBoost_instance = XGBRegressor()                       # declare the instance\n",
    "XGB = XGBoost_instance.fit(X_train,y_train)             # Fit the models.\n",
    "proba_XGB = XGB.predict(X_test)                         # predict the y\n",
    "                                                        # computing the preds..\n",
    "y_pred_XGB = []                                             # convert the probability to a 1D numpy arrays of 0s and 1s for scoring\n",
    "mid = (max(proba_XGB) - min(proba_XGB))/2\n",
    "for i in proba_XGB:                                         # createing a list\n",
    "    if i < mid:\n",
    "        y_pred_XGB.append(0)\n",
    "    if i > mid:\n",
    "        y_pred_XGB.append(1)        \n",
    "y_pred_XGB = np.array(y_pred_XGB)                           # converign the list to a numppy array\n",
    "\n",
    "print ('y_pred_XGB shape :' , y_pred_XGB.shape)         #resulting proba_XGB is a 1D numpy arrays probabilites.\n",
    "print ('y_pred_XGB contents : ', y_pred_XGB)\n",
    "print ('proba_XGB contents : ', proba_XGB)              #resulting proba_XGB is a 1D numpy arrays probabilites.\n",
    "print ('\\n' )\n",
    "\n",
    "from sklearn.linear_model import SGDClassifier          # USE SGDClassifier here..\n",
    "SGD_instance = SGDClassifier(loss = 'log', max_iter=1000)  # declare the instance\n",
    "SGD = SGD_instance.fit(X_train,y_train)                 # Fit the models.\n",
    "y_pred_SGD = SGD.predict(X_test)                        # predict the y\n",
    "proba_SGD = SGD.predict_proba(X_test)                   # compute the probabilies..\n",
    "proba_SGD = proba_SGD[:,1]\n",
    "print ('y_pred_SGD shape :' , y_pred_SGD.shape)\n",
    "print ('y_pred_SGD contents : ', y_pred_SGD)\n",
    "print (' proba_SGD contents : ', proba_SGD)"
   ]
  },
  {
   "cell_type": "code",
   "execution_count": 69,
   "metadata": {},
   "outputs": [
    {
     "data": {
      "image/png": "[encoded data removed]",
      "text/plain": [
       "<Figure size 432x288 with 1 Axes>"
      ]
     },
     "metadata": {},
     "output_type": "display_data"
    }
   ],
   "source": [
    "import matplotlib.pyplot as plt\n",
    "plt.hist(proba_XGB)                                     # let's see those probabilities in action..\n",
    "plt.show()"
   ]
  },
  {
   "cell_type": "markdown",
   "metadata": {},
   "source": [
    "intermn chart showing the histogram for probab_XGB. This give us an idea of what comes out of the XBG predict."
   ]
  },
  {
   "cell_type": "markdown",
   "metadata": {},
   "source": [
    "### Score the different models.."
   ]
  },
  {
   "cell_type": "code",
   "execution_count": 70,
   "metadata": {},
   "outputs": [
    {
     "name": "stdout",
     "output_type": "stream",
     "text": [
      "Random Forest Scores : \n",
      "score for training set = 1.00 \n",
      "score for test set     = 0.95 \n",
      "\n",
      "Confusion Matrix\n",
      "[[96485  1560]\n",
      " [ 8027 89509]]\n",
      "\n",
      "Classification Report\n",
      "             precision    recall  f1-score   support\n",
      "\n",
      "          0       0.92      0.98      0.95     98045\n",
      "          1       0.98      0.92      0.95     97536\n",
      "\n",
      "avg / total       0.95      0.95      0.95    195581\n",
      "\n",
      "-------------------------------------------------------\n",
      "\n",
      "\n",
      "Linear Regression Scores : \n",
      "score for training set = 0.59 \n",
      "score for test set     = 0.59 \n",
      "\n",
      "Confusion Matrix\n",
      "[[54393 43652]\n",
      " [37364 60172]]\n",
      "\n",
      "Classification Report\n",
      "             precision    recall  f1-score   support\n",
      "\n",
      "          0       0.59      0.55      0.57     98045\n",
      "          1       0.58      0.62      0.60     97536\n",
      "\n",
      "avg / total       0.59      0.59      0.59    195581\n",
      "\n",
      "-------------------------------------------------------\n",
      "\n",
      "\n",
      "eXtreme Gradient Boosting Scores : \n",
      "score for training set = 0.49 \n",
      "score for test set     = 0.49 \n",
      "\n",
      "Confusion Matrix\n",
      "[[98045     0]\n",
      " [38448 59088]]\n",
      "\n",
      "Classification Report\n",
      "             precision    recall  f1-score   support\n",
      "\n",
      "          0       0.72      1.00      0.84     98045\n",
      "          1       1.00      0.61      0.75     97536\n",
      "\n",
      "avg / total       0.86      0.80      0.80    195581\n",
      "\n",
      "-------------------------------------------------------\n",
      "\n",
      "\n",
      "Stochastic Gradient Descend Scores : \n",
      "score for training set = 0.58 \n",
      "score for test set     = 0.58 \n",
      "\n",
      "Confusion Matrix\n",
      "[[63039 35006]\n",
      " [47979 49557]]\n",
      "\n",
      "Classification Report\n",
      "             precision    recall  f1-score   support\n",
      "\n",
      "          0       0.57      0.64      0.60     98045\n",
      "          1       0.59      0.51      0.54     97536\n",
      "\n",
      "avg / total       0.58      0.58      0.57    195581\n",
      "\n",
      "-------------------------------------------------------\n"
     ]
    }
   ],
   "source": [
    "from sklearn import metrics\n",
    "\n",
    "print ('Random Forest Scores : ' )\n",
    "print ('score for training set = %0.2f '%  RF.score(X_train, y_train) )  # check accuracy score..\n",
    "print ('score for test set     = %0.2f '%  RF.score(X_test,  y_test) )   # make sure there is no overfitting\n",
    "print ('\\nConfusion Matrix' )\n",
    "print (metrics.confusion_matrix(y_true=y_test, y_pred=y_pred_RF) )      # confusion matrix\n",
    "print ('\\nClassification Report' )\n",
    "print (metrics.classification_report(y_test, y_pred_RF))                # classification report for RF\n",
    "print ('-------------------------------------------------------')\n",
    "print ('\\n' )\n",
    "\n",
    "print ('Linear Regression Scores : ' )\n",
    "print ('score for training set = %0.2f '%  LR.score(X_train, y_train) )  # check accuracy score..\n",
    "print ('score for test set     = %0.2f '%  LR.score(X_test,  y_test) )   # make sure there is no overfitting\n",
    "print ('\\nConfusion Matrix' )\n",
    "print (metrics.confusion_matrix(y_true=y_test, y_pred=y_pred_LR) )      # confusion matrix\n",
    "print ('\\nClassification Report' )\n",
    "print (metrics.classification_report(y_test, y_pred_LR))                # classification report for LR\n",
    "print ('-------------------------------------------------------')\n",
    "print ('\\n' )\n",
    "\n",
    "print ('eXtreme Gradient Boosting Scores : ' )\n",
    "print ('score for training set = %0.2f '% XGB.score(X_train, y_train) )  # check accuracy score..\n",
    "print ('score for test set     = %0.2f '% XGB.score(X_test,  y_test) )   # make sure there is no overfitting\n",
    "print ('\\nConfusion Matrix' )\n",
    "print (metrics.confusion_matrix(y_true=y_test, y_pred=y_pred_XGB) )     # confusion matrix\n",
    "print ('\\nClassification Report' )\n",
    "print (metrics.classification_report(y_test, y_pred_XGB))               # classification report for XGB\n",
    "print ('-------------------------------------------------------')\n",
    "print ('\\n' )                                     \n",
    "\n",
    "print ('Stochastic Gradient Descend Scores : ' )\n",
    "print ('score for training set = %0.2f '% SGD.score(X_train, y_train) )  # check accuracy score..\n",
    "print ('score for test set     = %0.2f '% SGD.score(X_test,  y_test) )   # make sure there is no overfitting\n",
    "print ('\\nConfusion Matrix' )\n",
    "print (metrics.confusion_matrix(y_true=y_test, y_pred=y_pred_SGD) )     # confusion matrix\n",
    "print ('\\nClassification Report' )\n",
    "print (metrics.classification_report(y_test, y_pred_SGD))               # classification report for SGD\n",
    "print ('-------------------------------------------------------')"
   ]
  },
  {
   "cell_type": "markdown",
   "metadata": {},
   "source": [
    "For our business application, it is ok to miss a valid trade. we call this wasted opportunity but missing the boat do not make us lose money. This means our application is resilient to high False Negatives ( actual = yes, predicted = no ).\n",
    "\n",
    "What we want is that when a trade is entered, it becomes a profit. We want a decent percentage of the ratio for True Postive / False Postive. High ration of ( actual = yes, predicted = yes / actual = no, predicted = yes )  \n",
    "\n",
    "we can see from the confusion matrix that Random Forest and XGBoost give us a high True Postive / False Postive Ratio. \n",
    "Based on Confusion Matrix, our winner models are RandomForrest and XGBoost."
   ]
  },
  {
   "cell_type": "code",
   "execution_count": 71,
   "metadata": {},
   "outputs": [
    {
     "data": {
      "image/png": "[encoded data removed]",
      "text/plain": [
       "<Figure size 1152x576 with 1 Axes>"
      ]
     },
     "metadata": {},
     "output_type": "display_data"
    }
   ],
   "source": [
    "# calculate the fpr and tpr for all thresholds of the classification\n",
    "# multiple ROC / AUC on one graph....\n",
    "from sklearn import metrics\n",
    "\n",
    "plt.figure(figsize=(16,8)).clf()\n",
    "\n",
    "# define \"lables\" for use later in the auc curve drawing..\n",
    "label = y_test\n",
    "\n",
    "#plot random forest\n",
    "fpr, tpr, thresh = metrics.roc_curve(label, proba_RF)\n",
    "auc = round(metrics.roc_auc_score(label, proba_RF),2)\n",
    "plt.plot(fpr,tpr,label=\"Random Forest, auc=\"+str(auc))\n",
    "\n",
    "#plot logistic\n",
    "fpr, tpr, thresh = metrics.roc_curve(label, proba_LR)\n",
    "auc = round(metrics.roc_auc_score(label, proba_LR),2)\n",
    "plt.plot(fpr,tpr,label=\"Logistic, auc=\"+str(auc))\n",
    "\n",
    "#plot XG Boost\n",
    "fpr, tpr, thresh = metrics.roc_curve(label, proba_XGB)\n",
    "auc = round(metrics.roc_auc_score(label, proba_XGB),2)\n",
    "plt.plot(fpr,tpr,label=\"XGBoost, auc=\"+str(auc))\n",
    "\n",
    "#plot SGD\n",
    "fpr, tpr, thresh = metrics.roc_curve(label, proba_SGD)\n",
    "auc = round(metrics.roc_auc_score(label, proba_SGD),2)\n",
    "plt.plot(fpr,tpr,label=\"SGD, auc=\"+str(auc))\n",
    "\n",
    "#plot random predictor\n",
    "plt.plot([0,1],[0,1],'r--')\n",
    "plt.tick_params(axis='both', labelsize=20)\n",
    "plt.ylabel('True Positive Rate',fontsize=20)\n",
    "plt.xlabel('False Positive Rate',fontsize= 20)\n",
    "plt.title('Area under the ROC Curve.',fontsize=20)\n",
    "plt.legend(loc=0,fontsize=15)\n",
    "None"
   ]
  },
  {
   "cell_type": "markdown",
   "metadata": {},
   "source": [
    "### and the winner is..."
   ]
  },
  {
   "cell_type": "markdown",
   "metadata": {},
   "source": [
    "we can see that the Logistic Regressino and it's cousin, Stochastic Gradient Descend ( SGD ) both perform poorly in AUC score too.\n",
    "\n",
    "AUC confirms that winner models are __RandomForrest and XGBoost__"
   ]
  },
  {
   "cell_type": "code",
   "execution_count": 72,
   "metadata": {},
   "outputs": [],
   "source": [
    "import pickle                                         # save the models to a file\n",
    "with open(r\"XGB.pickle\", \"wb\") as output_file:\n",
    "    pickle.dump(XGB,output_file)\n",
    "\n",
    "with open(r\"RF.pickle\", \"wb\") as output_file:\n",
    "    pickle.dump(RF,output_file)\n",
    "\n",
    "with open(r\"LR.pickle\", \"wb\") as output_file:\n",
    "    pickle.dump(LR,output_file)\n",
    "    \n",
    "with open(r\"SGD.pickle\", \"wb\") as output_file:\n",
    "    pickle.dump(SGD,output_file)"
   ]
  },
  {
   "cell_type": "markdown",
   "metadata": {},
   "source": [
    "after the models are 'pickled' and saved as files, it is worth noting that RandomForest is 61MB in size while XGB is only 69KB is size."
   ]
  },
  {
   "cell_type": "markdown",
   "metadata": {},
   "source": [
    "## Deploy the winning model"
   ]
  },
  {
   "cell_type": "code",
   "execution_count": 73,
   "metadata": {},
   "outputs": [],
   "source": [
    "with open (r\"XGB.pickle\", \"rb\") as input_file:          # load XGB from file to memory.\n",
    "        XGB = pickle.load(input_file)"
   ]
  },
  {
   "cell_type": "code",
   "execution_count": null,
   "metadata": {},
   "outputs": [],
   "source": []
  }
 ],
 "metadata": {
  "kernelspec": {
   "display_name": "Python 3",
   "language": "python",
   "name": "python3"
  },
  "language_info": {
   "codemirror_mode": {
    "name": "ipython",
    "version": 3
   },
   "file_extension": ".py",
   "mimetype": "text/x-python",
   "name": "python",
   "nbconvert_exporter": "python",
   "pygments_lexer": "ipython3",
   "version": "3.6.5"
  }
 },
 "nbformat": 4,
 "nbformat_minor": 2
}
